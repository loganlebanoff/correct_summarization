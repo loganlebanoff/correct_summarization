{
 "cells": [
  {
   "cell_type": "markdown",
   "metadata": {},
   "source": [
    "# Stats for the paper\n",
    "\n",
    "```TODOs:```\n",
    "- [x] For each system: average faithful, average gramm, average coverage\n",
    "- [x] For each system: distribution over the merging categories (we’re mostly interested in the reference system)\n",
    "- [x] For each MERGE CATEGORY: average faithful, average gramm (over all systems except reference)\n",
    "  - Imbalanced concat: 90% faithful, 90% gramm\n",
    "  - Replacement: 60% faithful, 95% gramm\n",
    "  - Balanced concat: …\n",
    "  - Other: …\n",
    "- [x] Distribution over the merging categories (only on uncoverage summ sents -- consider a summ sent to be uncoverage if >= 51% of the responses were NO for coverage)\n",
    "- [x] For each system: 3 summ sents that are unfaithful, 3 summ sents that are ungramm, 3 summ sents that are uncoverage\n"
   ]
  },
  {
   "cell_type": "code",
   "execution_count": 1,
   "metadata": {
    "scrolled": false
   },
   "outputs": [
    {
     "data": {
      "text/html": [
       "<div>\n",
       "<style scoped>\n",
       "    .dataframe tbody tr th:only-of-type {\n",
       "        vertical-align: middle;\n",
       "    }\n",
       "\n",
       "    .dataframe tbody tr th {\n",
       "        vertical-align: top;\n",
       "    }\n",
       "\n",
       "    .dataframe thead th {\n",
       "        text-align: right;\n",
       "    }\n",
       "</style>\n",
       "<table border=\"1\" class=\"dataframe\">\n",
       "  <thead>\n",
       "    <tr style=\"text-align: right;\">\n",
       "      <th></th>\n",
       "      <th></th>\n",
       "      <th>Input.article_content</th>\n",
       "      <th>n_bottom-up</th>\n",
       "      <th>n_reference</th>\n",
       "      <th>n_dca</th>\n",
       "      <th>n_pg</th>\n",
       "      <th>n_novel</th>\n",
       "      <th>n_abs-rl-rerank</th>\n",
       "      <th>sys_0</th>\n",
       "      <th>sys_1</th>\n",
       "      <th>sys_2</th>\n",
       "      <th>...</th>\n",
       "      <th>summary_2</th>\n",
       "      <th>summary_3</th>\n",
       "      <th>summary_4</th>\n",
       "      <th>summary_5</th>\n",
       "      <th>sha_0</th>\n",
       "      <th>sha_1</th>\n",
       "      <th>sha_2</th>\n",
       "      <th>sha_3</th>\n",
       "      <th>sha_4</th>\n",
       "      <th>sha_5</th>\n",
       "    </tr>\n",
       "    <tr>\n",
       "      <th>Answer.article_hash</th>\n",
       "      <th>WorkerId</th>\n",
       "      <th></th>\n",
       "      <th></th>\n",
       "      <th></th>\n",
       "      <th></th>\n",
       "      <th></th>\n",
       "      <th></th>\n",
       "      <th></th>\n",
       "      <th></th>\n",
       "      <th></th>\n",
       "      <th></th>\n",
       "      <th></th>\n",
       "      <th></th>\n",
       "      <th></th>\n",
       "      <th></th>\n",
       "      <th></th>\n",
       "      <th></th>\n",
       "      <th></th>\n",
       "      <th></th>\n",
       "      <th></th>\n",
       "      <th></th>\n",
       "      <th></th>\n",
       "    </tr>\n",
       "  </thead>\n",
       "  <tbody>\n",
       "    <tr>\n",
       "      <th>ad7ae93a040c050c6264c5b1c55b6436503b34e406378689601c7dcc97f080e2</th>\n",
       "      <th>A1IZ4NX41GKU4X</th>\n",
       "      <td>(CNN) If you&amp;apos;re famous and performing the...</td>\n",
       "      <td>0</td>\n",
       "      <td>1</td>\n",
       "      <td>3</td>\n",
       "      <td>1</td>\n",
       "      <td>1</td>\n",
       "      <td>0</td>\n",
       "      <td>dca</td>\n",
       "      <td>reference</td>\n",
       "      <td>pg</td>\n",
       "      <td>...</td>\n",
       "      <td>guitar slinger jimi hendrix inflamed mainstrea...</td>\n",
       "      <td>the crowd at the american league game would be...</td>\n",
       "      <td>the american national anthem will be a nationa...</td>\n",
       "      <td>the late night of the gulf war in the san dieg...</td>\n",
       "      <td>919603c3c8e2217d9afe6e7a407d27d296363a71f451f1...</td>\n",
       "      <td>c6fa2649470d5bc264f3b9e5fc182f2918be95b1034d4a...</td>\n",
       "      <td>f0f10dd0a9be8230cd858590b3614a9717678b7e7b0b38...</td>\n",
       "      <td>a01be3c29e2edcc91106bed254a773e8bad56d3c790cb4...</td>\n",
       "      <td>3fa58b9761027bd14d20b5f2a88563b9dc07fe1c966b26...</td>\n",
       "      <td>98ad3008c98e52919d633781fc00ac0ac82946761b9985...</td>\n",
       "    </tr>\n",
       "  </tbody>\n",
       "</table>\n",
       "<p>1 rows × 55 columns</p>\n",
       "</div>"
      ],
      "text/plain": [
       "                                                                                               Input.article_content  \\\n",
       "Answer.article_hash                                WorkerId                                                            \n",
       "ad7ae93a040c050c6264c5b1c55b6436503b34e40637868... A1IZ4NX41GKU4X  (CNN) If you&apos;re famous and performing the...   \n",
       "\n",
       "                                                                   n_bottom-up  \\\n",
       "Answer.article_hash                                WorkerId                      \n",
       "ad7ae93a040c050c6264c5b1c55b6436503b34e40637868... A1IZ4NX41GKU4X            0   \n",
       "\n",
       "                                                                   n_reference  \\\n",
       "Answer.article_hash                                WorkerId                      \n",
       "ad7ae93a040c050c6264c5b1c55b6436503b34e40637868... A1IZ4NX41GKU4X            1   \n",
       "\n",
       "                                                                   n_dca  \\\n",
       "Answer.article_hash                                WorkerId                \n",
       "ad7ae93a040c050c6264c5b1c55b6436503b34e40637868... A1IZ4NX41GKU4X      3   \n",
       "\n",
       "                                                                   n_pg  \\\n",
       "Answer.article_hash                                WorkerId               \n",
       "ad7ae93a040c050c6264c5b1c55b6436503b34e40637868... A1IZ4NX41GKU4X     1   \n",
       "\n",
       "                                                                   n_novel  \\\n",
       "Answer.article_hash                                WorkerId                  \n",
       "ad7ae93a040c050c6264c5b1c55b6436503b34e40637868... A1IZ4NX41GKU4X        1   \n",
       "\n",
       "                                                                   n_abs-rl-rerank  \\\n",
       "Answer.article_hash                                WorkerId                          \n",
       "ad7ae93a040c050c6264c5b1c55b6436503b34e40637868... A1IZ4NX41GKU4X                0   \n",
       "\n",
       "                                                                  sys_0  \\\n",
       "Answer.article_hash                                WorkerId               \n",
       "ad7ae93a040c050c6264c5b1c55b6436503b34e40637868... A1IZ4NX41GKU4X   dca   \n",
       "\n",
       "                                                                       sys_1  \\\n",
       "Answer.article_hash                                WorkerId                    \n",
       "ad7ae93a040c050c6264c5b1c55b6436503b34e40637868... A1IZ4NX41GKU4X  reference   \n",
       "\n",
       "                                                                  sys_2  ...  \\\n",
       "Answer.article_hash                                WorkerId              ...   \n",
       "ad7ae93a040c050c6264c5b1c55b6436503b34e40637868... A1IZ4NX41GKU4X    pg  ...   \n",
       "\n",
       "                                                                                                           summary_2  \\\n",
       "Answer.article_hash                                WorkerId                                                            \n",
       "ad7ae93a040c050c6264c5b1c55b6436503b34e40637868... A1IZ4NX41GKU4X  guitar slinger jimi hendrix inflamed mainstrea...   \n",
       "\n",
       "                                                                                                           summary_3  \\\n",
       "Answer.article_hash                                WorkerId                                                            \n",
       "ad7ae93a040c050c6264c5b1c55b6436503b34e40637868... A1IZ4NX41GKU4X  the crowd at the american league game would be...   \n",
       "\n",
       "                                                                                                           summary_4  \\\n",
       "Answer.article_hash                                WorkerId                                                            \n",
       "ad7ae93a040c050c6264c5b1c55b6436503b34e40637868... A1IZ4NX41GKU4X  the american national anthem will be a nationa...   \n",
       "\n",
       "                                                                                                           summary_5  \\\n",
       "Answer.article_hash                                WorkerId                                                            \n",
       "ad7ae93a040c050c6264c5b1c55b6436503b34e40637868... A1IZ4NX41GKU4X  the late night of the gulf war in the san dieg...   \n",
       "\n",
       "                                                                                                               sha_0  \\\n",
       "Answer.article_hash                                WorkerId                                                            \n",
       "ad7ae93a040c050c6264c5b1c55b6436503b34e40637868... A1IZ4NX41GKU4X  919603c3c8e2217d9afe6e7a407d27d296363a71f451f1...   \n",
       "\n",
       "                                                                                                               sha_1  \\\n",
       "Answer.article_hash                                WorkerId                                                            \n",
       "ad7ae93a040c050c6264c5b1c55b6436503b34e40637868... A1IZ4NX41GKU4X  c6fa2649470d5bc264f3b9e5fc182f2918be95b1034d4a...   \n",
       "\n",
       "                                                                                                               sha_2  \\\n",
       "Answer.article_hash                                WorkerId                                                            \n",
       "ad7ae93a040c050c6264c5b1c55b6436503b34e40637868... A1IZ4NX41GKU4X  f0f10dd0a9be8230cd858590b3614a9717678b7e7b0b38...   \n",
       "\n",
       "                                                                                                               sha_3  \\\n",
       "Answer.article_hash                                WorkerId                                                            \n",
       "ad7ae93a040c050c6264c5b1c55b6436503b34e40637868... A1IZ4NX41GKU4X  a01be3c29e2edcc91106bed254a773e8bad56d3c790cb4...   \n",
       "\n",
       "                                                                                                               sha_4  \\\n",
       "Answer.article_hash                                WorkerId                                                            \n",
       "ad7ae93a040c050c6264c5b1c55b6436503b34e40637868... A1IZ4NX41GKU4X  3fa58b9761027bd14d20b5f2a88563b9dc07fe1c966b26...   \n",
       "\n",
       "                                                                                                               sha_5  \n",
       "Answer.article_hash                                WorkerId                                                           \n",
       "ad7ae93a040c050c6264c5b1c55b6436503b34e40637868... A1IZ4NX41GKU4X  98ad3008c98e52919d633781fc00ac0ac82946761b9985...  \n",
       "\n",
       "[1 rows x 55 columns]"
      ]
     },
     "metadata": {},
     "output_type": "display_data"
    }
   ],
   "source": [
    "\"\"\"Gathers all statistics for paper and makes plots.\"\"\"\n",
    "import itertools\n",
    "\n",
    "import numpy as np\n",
    "import pandas as pd\n",
    "import seaborn as sns\n",
    "import matplotlib.pyplot as plt\n",
    "\n",
    "processed = pd.read_csv(\"processed.csv\")\n",
    "processed.set_index([\"Answer.article_hash\", \"WorkerId\"], inplace=True)\n",
    "\n",
    "tru_sys = [\"Bottom-Up\", \"DCA\", \"PG\", \"Novel\", \"Fast-Abs-RL\", \"Reference\"]\n",
    "systems = [\"bottom-up\", \"dca\", \"pg\", \"novel\", \"abs-rl-rerank\", \"reference\"]\n",
    "n_sys = len(systems)\n",
    "n_exs = len(processed) * n_sys\n",
    "eps = 1e-15\n",
    "\n",
    "merge_d = {\n",
    "    \"Bal. Concat.\": \"bc\",\n",
    "    \"Imbal. Concat.\": \"ic\",\n",
    "    \"Replacement\": \"re\",\n",
    "    \"Other\": \"ot\",\n",
    "}\n",
    "rev_merge_d = {v: k for k, v in merge_d.items()}\n",
    "\n",
    "sys_selec = [f\"sys_{idx}\" for idx in range(n_sys)]\n",
    "grm_selec = [f\"gramm_{idx}\" for idx in range(n_sys)]\n",
    "fth_selec = [f\"faith_{idx}\" for idx in range(n_sys)]\n",
    "cvr_selec = [f\"cover_{idx}\" for idx in range(n_sys)]\n",
    "mrg_selec = [f\"merge_{idx}\" for idx in range(n_sys)]\n",
    "sum_selec = [f\"summary_{idx}\" for idx in range(n_sys)]\n",
    "n_sys_sel = [f\"n_{sys}\" for sys in systems]\n",
    "\n",
    "masks = {sys: (processed[sys_selec] == sys).values for sys in systems}\n",
    "n_of = {sys: processed[f\"n_{sys}\"].sum() for sys in systems}\n",
    "\n",
    "display(processed.head(n=1))\n",
    "# display(processed.info())"
   ]
  },
  {
   "cell_type": "code",
   "execution_count": 2,
   "metadata": {},
   "outputs": [
    {
     "name": "stdout",
     "output_type": "stream",
     "text": [
      "{'bottom-up': 554, 'dca': 492, 'pg': 143, 'novel': 648, 'abs-rl-rerank': 58, 'reference': 379}\n"
     ]
    }
   ],
   "source": [
    "print(n_of)"
   ]
  },
  {
   "cell_type": "code",
   "execution_count": 3,
   "metadata": {},
   "outputs": [
    {
     "data": {
      "text/plain": [
       "n_bottom-up        146\n",
       "n_dca              130\n",
       "n_pg                37\n",
       "n_novel            171\n",
       "n_abs-rl-rerank     16\n",
       "n_reference        100\n",
       "Name: 0, dtype: object"
      ]
     },
     "execution_count": 3,
     "metadata": {},
     "output_type": "execute_result"
    }
   ],
   "source": [
    "n_summs = processed.reset_index().iloc[0][n_sys_sel].copy()\n",
    "n_summs[:] = 0\n",
    "for _, group in processed.reset_index().groupby(\"Answer.article_hash\"):\n",
    "    n_summs += group.iloc[0][n_sys_sel]\n",
    "    \n",
    "n_summs"
   ]
  },
  {
   "cell_type": "markdown",
   "metadata": {},
   "source": [
    "---\n",
    "## Averages"
   ]
  },
  {
   "cell_type": "markdown",
   "metadata": {},
   "source": [
    "### Tabular output"
   ]
  },
  {
   "cell_type": "code",
   "execution_count": 4,
   "metadata": {},
   "outputs": [
    {
     "data": {
      "text/html": [
       "<div>\n",
       "<style scoped>\n",
       "    .dataframe tbody tr th:only-of-type {\n",
       "        vertical-align: middle;\n",
       "    }\n",
       "\n",
       "    .dataframe tbody tr th {\n",
       "        vertical-align: top;\n",
       "    }\n",
       "\n",
       "    .dataframe thead th {\n",
       "        text-align: right;\n",
       "    }\n",
       "</style>\n",
       "<table border=\"1\" class=\"dataframe\">\n",
       "  <thead>\n",
       "    <tr style=\"text-align: right;\">\n",
       "      <th></th>\n",
       "      <th>system</th>\n",
       "      <th>gramm</th>\n",
       "      <th>faith</th>\n",
       "      <th>cover</th>\n",
       "    </tr>\n",
       "  </thead>\n",
       "  <tbody>\n",
       "    <tr>\n",
       "      <th>0</th>\n",
       "      <td>bottom-up</td>\n",
       "      <td>0.788809</td>\n",
       "      <td>0.568592</td>\n",
       "      <td>0.785199</td>\n",
       "    </tr>\n",
       "    <tr>\n",
       "      <th>1</th>\n",
       "      <td>dca</td>\n",
       "      <td>0.723577</td>\n",
       "      <td>0.469512</td>\n",
       "      <td>0.626016</td>\n",
       "    </tr>\n",
       "    <tr>\n",
       "      <th>2</th>\n",
       "      <td>pg</td>\n",
       "      <td>0.846154</td>\n",
       "      <td>0.769231</td>\n",
       "      <td>0.895105</td>\n",
       "    </tr>\n",
       "    <tr>\n",
       "      <th>3</th>\n",
       "      <td>novel</td>\n",
       "      <td>0.785494</td>\n",
       "      <td>0.584877</td>\n",
       "      <td>0.753086</td>\n",
       "    </tr>\n",
       "    <tr>\n",
       "      <th>4</th>\n",
       "      <td>abs-rl-rerank</td>\n",
       "      <td>0.775862</td>\n",
       "      <td>0.689655</td>\n",
       "      <td>0.827586</td>\n",
       "    </tr>\n",
       "    <tr>\n",
       "      <th>5</th>\n",
       "      <td>reference</td>\n",
       "      <td>0.915567</td>\n",
       "      <td>0.883905</td>\n",
       "      <td>0.74934</td>\n",
       "    </tr>\n",
       "  </tbody>\n",
       "</table>\n",
       "</div>"
      ],
      "text/plain": [
       "          system     gramm     faith     cover\n",
       "0      bottom-up  0.788809  0.568592  0.785199\n",
       "1            dca  0.723577  0.469512  0.626016\n",
       "2             pg  0.846154  0.769231  0.895105\n",
       "3          novel  0.785494  0.584877  0.753086\n",
       "4  abs-rl-rerank  0.775862  0.689655  0.827586\n",
       "5      reference  0.915567  0.883905   0.74934"
      ]
     },
     "execution_count": 4,
     "metadata": {},
     "output_type": "execute_result"
    }
   ],
   "source": [
    "averages = pd.DataFrame(columns=[\"system\", \"gramm\", \"faith\", \"cover\"])\n",
    "averages[\"system\"] = systems\n",
    "averages.set_index([\"system\"], inplace=True)\n",
    "\n",
    "for sys in systems:\n",
    "    averages.loc[sys, \"gramm\"] = (processed[grm_selec] * masks[sys]).sum().sum() / n_of[sys]\n",
    "    averages.loc[sys, \"faith\"] = (processed[fth_selec] * masks[sys]).sum().sum() / n_of[sys]\n",
    "    averages.loc[sys, \"cover\"] = (processed[cvr_selec] * masks[sys]).sum().sum() / n_of[sys]\n",
    "    \n",
    "averages.reset_index(inplace=True)\n",
    "averages"
   ]
  },
  {
   "cell_type": "markdown",
   "metadata": {},
   "source": [
    "### Graphical output"
   ]
  },
  {
   "cell_type": "code",
   "execution_count": 5,
   "metadata": {},
   "outputs": [
    {
     "data": {
      "text/html": [
       "<div>\n",
       "<style scoped>\n",
       "    .dataframe tbody tr th:only-of-type {\n",
       "        vertical-align: middle;\n",
       "    }\n",
       "\n",
       "    .dataframe tbody tr th {\n",
       "        vertical-align: top;\n",
       "    }\n",
       "\n",
       "    .dataframe thead th {\n",
       "        text-align: right;\n",
       "    }\n",
       "</style>\n",
       "<table border=\"1\" class=\"dataframe\">\n",
       "  <thead>\n",
       "    <tr style=\"text-align: right;\">\n",
       "      <th></th>\n",
       "      <th>system</th>\n",
       "      <th>gramm</th>\n",
       "      <th>faith</th>\n",
       "      <th>cover</th>\n",
       "    </tr>\n",
       "  </thead>\n",
       "  <tbody>\n",
       "    <tr>\n",
       "      <th>1</th>\n",
       "      <td>dca</td>\n",
       "      <td>0.723577</td>\n",
       "      <td>0.469512</td>\n",
       "      <td>0.626016</td>\n",
       "    </tr>\n",
       "    <tr>\n",
       "      <th>0</th>\n",
       "      <td>bottom-up</td>\n",
       "      <td>0.788809</td>\n",
       "      <td>0.568592</td>\n",
       "      <td>0.785199</td>\n",
       "    </tr>\n",
       "    <tr>\n",
       "      <th>3</th>\n",
       "      <td>novel</td>\n",
       "      <td>0.785494</td>\n",
       "      <td>0.584877</td>\n",
       "      <td>0.753086</td>\n",
       "    </tr>\n",
       "    <tr>\n",
       "      <th>4</th>\n",
       "      <td>abs-rl-rerank</td>\n",
       "      <td>0.775862</td>\n",
       "      <td>0.689655</td>\n",
       "      <td>0.827586</td>\n",
       "    </tr>\n",
       "    <tr>\n",
       "      <th>2</th>\n",
       "      <td>pg</td>\n",
       "      <td>0.846154</td>\n",
       "      <td>0.769231</td>\n",
       "      <td>0.895105</td>\n",
       "    </tr>\n",
       "    <tr>\n",
       "      <th>5</th>\n",
       "      <td>reference</td>\n",
       "      <td>0.915567</td>\n",
       "      <td>0.883905</td>\n",
       "      <td>0.74934</td>\n",
       "    </tr>\n",
       "  </tbody>\n",
       "</table>\n",
       "</div>"
      ],
      "text/plain": [
       "          system     gramm     faith     cover\n",
       "1            dca  0.723577  0.469512  0.626016\n",
       "0      bottom-up  0.788809  0.568592  0.785199\n",
       "3          novel  0.785494  0.584877  0.753086\n",
       "4  abs-rl-rerank  0.775862  0.689655  0.827586\n",
       "2             pg  0.846154  0.769231  0.895105\n",
       "5      reference  0.915567  0.883905   0.74934"
      ]
     },
     "metadata": {},
     "output_type": "display_data"
    },
    {
     "data": {
      "text/html": [
       "<div>\n",
       "<style scoped>\n",
       "    .dataframe tbody tr th:only-of-type {\n",
       "        vertical-align: middle;\n",
       "    }\n",
       "\n",
       "    .dataframe tbody tr th {\n",
       "        vertical-align: top;\n",
       "    }\n",
       "\n",
       "    .dataframe thead th {\n",
       "        text-align: right;\n",
       "    }\n",
       "</style>\n",
       "<table border=\"1\" class=\"dataframe\">\n",
       "  <thead>\n",
       "    <tr style=\"text-align: right;\">\n",
       "      <th></th>\n",
       "      <th>system</th>\n",
       "      <th>metric</th>\n",
       "      <th>probability</th>\n",
       "    </tr>\n",
       "  </thead>\n",
       "  <tbody>\n",
       "    <tr>\n",
       "      <th>0</th>\n",
       "      <td>dca</td>\n",
       "      <td>faith</td>\n",
       "      <td>0.469512</td>\n",
       "    </tr>\n",
       "    <tr>\n",
       "      <th>1</th>\n",
       "      <td>bottom-up</td>\n",
       "      <td>faith</td>\n",
       "      <td>0.568592</td>\n",
       "    </tr>\n",
       "    <tr>\n",
       "      <th>2</th>\n",
       "      <td>novel</td>\n",
       "      <td>faith</td>\n",
       "      <td>0.584877</td>\n",
       "    </tr>\n",
       "    <tr>\n",
       "      <th>3</th>\n",
       "      <td>abs-rl-rerank</td>\n",
       "      <td>faith</td>\n",
       "      <td>0.689655</td>\n",
       "    </tr>\n",
       "    <tr>\n",
       "      <th>4</th>\n",
       "      <td>pg</td>\n",
       "      <td>faith</td>\n",
       "      <td>0.769231</td>\n",
       "    </tr>\n",
       "    <tr>\n",
       "      <th>5</th>\n",
       "      <td>reference</td>\n",
       "      <td>faith</td>\n",
       "      <td>0.883905</td>\n",
       "    </tr>\n",
       "    <tr>\n",
       "      <th>6</th>\n",
       "      <td>dca</td>\n",
       "      <td>gramm</td>\n",
       "      <td>0.723577</td>\n",
       "    </tr>\n",
       "    <tr>\n",
       "      <th>7</th>\n",
       "      <td>bottom-up</td>\n",
       "      <td>gramm</td>\n",
       "      <td>0.788809</td>\n",
       "    </tr>\n",
       "    <tr>\n",
       "      <th>8</th>\n",
       "      <td>novel</td>\n",
       "      <td>gramm</td>\n",
       "      <td>0.785494</td>\n",
       "    </tr>\n",
       "    <tr>\n",
       "      <th>9</th>\n",
       "      <td>abs-rl-rerank</td>\n",
       "      <td>gramm</td>\n",
       "      <td>0.775862</td>\n",
       "    </tr>\n",
       "    <tr>\n",
       "      <th>10</th>\n",
       "      <td>pg</td>\n",
       "      <td>gramm</td>\n",
       "      <td>0.846154</td>\n",
       "    </tr>\n",
       "    <tr>\n",
       "      <th>11</th>\n",
       "      <td>reference</td>\n",
       "      <td>gramm</td>\n",
       "      <td>0.915567</td>\n",
       "    </tr>\n",
       "    <tr>\n",
       "      <th>12</th>\n",
       "      <td>dca</td>\n",
       "      <td>cover</td>\n",
       "      <td>0.626016</td>\n",
       "    </tr>\n",
       "    <tr>\n",
       "      <th>13</th>\n",
       "      <td>bottom-up</td>\n",
       "      <td>cover</td>\n",
       "      <td>0.785199</td>\n",
       "    </tr>\n",
       "    <tr>\n",
       "      <th>14</th>\n",
       "      <td>novel</td>\n",
       "      <td>cover</td>\n",
       "      <td>0.753086</td>\n",
       "    </tr>\n",
       "    <tr>\n",
       "      <th>15</th>\n",
       "      <td>abs-rl-rerank</td>\n",
       "      <td>cover</td>\n",
       "      <td>0.827586</td>\n",
       "    </tr>\n",
       "    <tr>\n",
       "      <th>16</th>\n",
       "      <td>pg</td>\n",
       "      <td>cover</td>\n",
       "      <td>0.895105</td>\n",
       "    </tr>\n",
       "    <tr>\n",
       "      <th>17</th>\n",
       "      <td>reference</td>\n",
       "      <td>cover</td>\n",
       "      <td>0.74934</td>\n",
       "    </tr>\n",
       "  </tbody>\n",
       "</table>\n",
       "</div>"
      ],
      "text/plain": [
       "           system metric probability\n",
       "0             dca  faith    0.469512\n",
       "1       bottom-up  faith    0.568592\n",
       "2           novel  faith    0.584877\n",
       "3   abs-rl-rerank  faith    0.689655\n",
       "4              pg  faith    0.769231\n",
       "5       reference  faith    0.883905\n",
       "6             dca  gramm    0.723577\n",
       "7       bottom-up  gramm    0.788809\n",
       "8           novel  gramm    0.785494\n",
       "9   abs-rl-rerank  gramm    0.775862\n",
       "10             pg  gramm    0.846154\n",
       "11      reference  gramm    0.915567\n",
       "12            dca  cover    0.626016\n",
       "13      bottom-up  cover    0.785199\n",
       "14          novel  cover    0.753086\n",
       "15  abs-rl-rerank  cover    0.827586\n",
       "16             pg  cover    0.895105\n",
       "17      reference  cover     0.74934"
      ]
     },
     "metadata": {},
     "output_type": "display_data"
    }
   ],
   "source": [
    "averages.sort_values(by=[\"faith\"], inplace=True)\n",
    "display(averages)\n",
    "sns_averages = pd.melt(averages, id_vars=[\"system\"], value_vars=[\"faith\", \"gramm\", \"cover\"],\n",
    "                       var_name=\"metric\", value_name=\"probability\")\n",
    "display(sns_averages)"
   ]
  },
  {
   "cell_type": "code",
   "execution_count": 6,
   "metadata": {},
   "outputs": [
    {
     "data": {
      "text/plain": [
       "<seaborn.axisgrid.FacetGrid at 0x1080fb2e8>"
      ]
     },
     "execution_count": 6,
     "metadata": {},
     "output_type": "execute_result"
    },
    {
     "data": {
      "image/png": "[encoded data removed]",
      "text/plain": [
       "<Figure size 434.1x360 with 1 Axes>"
      ]
     },
     "metadata": {},
     "output_type": "display_data"
    }
   ],
   "source": [
    "sns.set(style=\"darkgrid\")\n",
    "sns_averages_plot = sns.catplot(x=\"probability\", y=\"system\", hue=\"metric\", data=sns_averages, kind=\"bar\",)\n",
    "\n",
    "sns_averages_plot.fig.savefig(\"averages.pdf\")\n",
    "sns_averages_plot"
   ]
  },
  {
   "cell_type": "markdown",
   "metadata": {},
   "source": [
    "---\n",
    "## Distribution over Merging"
   ]
  },
  {
   "cell_type": "markdown",
   "metadata": {},
   "source": [
    "### Tabular output"
   ]
  },
  {
   "cell_type": "code",
   "execution_count": 7,
   "metadata": {
    "scrolled": false
   },
   "outputs": [
    {
     "data": {
      "text/html": [
       "<div>\n",
       "<style scoped>\n",
       "    .dataframe tbody tr th:only-of-type {\n",
       "        vertical-align: middle;\n",
       "    }\n",
       "\n",
       "    .dataframe tbody tr th {\n",
       "        vertical-align: top;\n",
       "    }\n",
       "\n",
       "    .dataframe thead th {\n",
       "        text-align: right;\n",
       "    }\n",
       "</style>\n",
       "<table border=\"1\" class=\"dataframe\">\n",
       "  <thead>\n",
       "    <tr style=\"text-align: right;\">\n",
       "      <th></th>\n",
       "      <th>bc</th>\n",
       "      <th>ic</th>\n",
       "      <th>re</th>\n",
       "      <th>ot</th>\n",
       "    </tr>\n",
       "    <tr>\n",
       "      <th>system</th>\n",
       "      <th></th>\n",
       "      <th></th>\n",
       "      <th></th>\n",
       "      <th></th>\n",
       "    </tr>\n",
       "  </thead>\n",
       "  <tbody>\n",
       "    <tr>\n",
       "      <th>bottom-up</th>\n",
       "      <td>0.315884</td>\n",
       "      <td>0.379061</td>\n",
       "      <td>0.111913</td>\n",
       "      <td>0.193141</td>\n",
       "    </tr>\n",
       "    <tr>\n",
       "      <th>dca</th>\n",
       "      <td>0.229675</td>\n",
       "      <td>0.365854</td>\n",
       "      <td>0.0934959</td>\n",
       "      <td>0.310976</td>\n",
       "    </tr>\n",
       "    <tr>\n",
       "      <th>pg</th>\n",
       "      <td>0.398601</td>\n",
       "      <td>0.405594</td>\n",
       "      <td>0.111888</td>\n",
       "      <td>0.0839161</td>\n",
       "    </tr>\n",
       "    <tr>\n",
       "      <th>novel</th>\n",
       "      <td>0.274691</td>\n",
       "      <td>0.382716</td>\n",
       "      <td>0.132716</td>\n",
       "      <td>0.209877</td>\n",
       "    </tr>\n",
       "    <tr>\n",
       "      <th>abs-rl-rerank</th>\n",
       "      <td>0.396552</td>\n",
       "      <td>0.344828</td>\n",
       "      <td>0.12069</td>\n",
       "      <td>0.137931</td>\n",
       "    </tr>\n",
       "    <tr>\n",
       "      <th>reference</th>\n",
       "      <td>0.313984</td>\n",
       "      <td>0.422164</td>\n",
       "      <td>0.0738786</td>\n",
       "      <td>0.189974</td>\n",
       "    </tr>\n",
       "  </tbody>\n",
       "</table>\n",
       "</div>"
      ],
      "text/plain": [
       "                     bc        ic         re         ot\n",
       "system                                                 \n",
       "bottom-up      0.315884  0.379061   0.111913   0.193141\n",
       "dca            0.229675  0.365854  0.0934959   0.310976\n",
       "pg             0.398601  0.405594   0.111888  0.0839161\n",
       "novel          0.274691  0.382716   0.132716   0.209877\n",
       "abs-rl-rerank  0.396552  0.344828    0.12069   0.137931\n",
       "reference      0.313984  0.422164  0.0738786   0.189974"
      ]
     },
     "execution_count": 7,
     "metadata": {},
     "output_type": "execute_result"
    }
   ],
   "source": [
    "merge_opts = list(merge_d.values())\n",
    "merge_dist = pd.DataFrame(columns=[\"system\"] + merge_opts)\n",
    "merge_dist[\"system\"] = systems\n",
    "merge_dist.set_index([\"system\"], inplace=True)\n",
    "\n",
    "# for sys, col in itertools.product(systems, merge_opts):\n",
    "for sys, col in itertools.product(systems, merge_opts):\n",
    "    merge_dist.loc[sys, col] = ((processed[mrg_selec] == col).values * masks[sys]).sum() / n_of[sys]\n",
    "\n",
    "assert all(merge_dist.sum(axis=1) >= (1 - eps)), merge_dist.sum(axis=1)\n",
    "merge_dist"
   ]
  },
  {
   "cell_type": "markdown",
   "metadata": {},
   "source": [
    "### Graphical output"
   ]
  },
  {
   "cell_type": "code",
   "execution_count": 8,
   "metadata": {
    "scrolled": false
   },
   "outputs": [
    {
     "data": {
      "text/html": [
       "<div>\n",
       "<style scoped>\n",
       "    .dataframe tbody tr th:only-of-type {\n",
       "        vertical-align: middle;\n",
       "    }\n",
       "\n",
       "    .dataframe tbody tr th {\n",
       "        vertical-align: top;\n",
       "    }\n",
       "\n",
       "    .dataframe thead th {\n",
       "        text-align: right;\n",
       "    }\n",
       "</style>\n",
       "<table border=\"1\" class=\"dataframe\">\n",
       "  <thead>\n",
       "    <tr style=\"text-align: right;\">\n",
       "      <th></th>\n",
       "      <th>Bal. Concat.</th>\n",
       "      <th>Imbal. Concat.</th>\n",
       "      <th>Replacement</th>\n",
       "      <th>Other</th>\n",
       "    </tr>\n",
       "    <tr>\n",
       "      <th>system</th>\n",
       "      <th></th>\n",
       "      <th></th>\n",
       "      <th></th>\n",
       "      <th></th>\n",
       "    </tr>\n",
       "  </thead>\n",
       "  <tbody>\n",
       "    <tr>\n",
       "      <th>Reference</th>\n",
       "      <td>0.313984</td>\n",
       "      <td>0.422164</td>\n",
       "      <td>0.0738786</td>\n",
       "      <td>0.189974</td>\n",
       "    </tr>\n",
       "    <tr>\n",
       "      <th>DCA</th>\n",
       "      <td>0.229675</td>\n",
       "      <td>0.365854</td>\n",
       "      <td>0.0934959</td>\n",
       "      <td>0.310976</td>\n",
       "    </tr>\n",
       "    <tr>\n",
       "      <th>Bottom-Up</th>\n",
       "      <td>0.315884</td>\n",
       "      <td>0.379061</td>\n",
       "      <td>0.111913</td>\n",
       "      <td>0.193141</td>\n",
       "    </tr>\n",
       "    <tr>\n",
       "      <th>Fast-Abs-RL</th>\n",
       "      <td>0.396552</td>\n",
       "      <td>0.344828</td>\n",
       "      <td>0.12069</td>\n",
       "      <td>0.137931</td>\n",
       "    </tr>\n",
       "    <tr>\n",
       "      <th>Novel</th>\n",
       "      <td>0.274691</td>\n",
       "      <td>0.382716</td>\n",
       "      <td>0.132716</td>\n",
       "      <td>0.209877</td>\n",
       "    </tr>\n",
       "    <tr>\n",
       "      <th>PG</th>\n",
       "      <td>0.398601</td>\n",
       "      <td>0.405594</td>\n",
       "      <td>0.111888</td>\n",
       "      <td>0.0839161</td>\n",
       "    </tr>\n",
       "  </tbody>\n",
       "</table>\n",
       "</div>"
      ],
      "text/plain": [
       "            Bal. Concat. Imbal. Concat. Replacement      Other\n",
       "system                                                        \n",
       "Reference       0.313984       0.422164   0.0738786   0.189974\n",
       "DCA             0.229675       0.365854   0.0934959   0.310976\n",
       "Bottom-Up       0.315884       0.379061    0.111913   0.193141\n",
       "Fast-Abs-RL     0.396552       0.344828     0.12069   0.137931\n",
       "Novel           0.274691       0.382716    0.132716   0.209877\n",
       "PG              0.398601       0.405594    0.111888  0.0839161"
      ]
     },
     "metadata": {},
     "output_type": "display_data"
    },
    {
     "data": {
      "image/png": "[encoded data removed]",
      "text/plain": [
       "<Figure size 432x288 with 1 Axes>"
      ]
     },
     "metadata": {},
     "output_type": "display_data"
    }
   ],
   "source": [
    "cp_mrg_dist = merge_dist.copy()\n",
    "\n",
    "as_in_paper = [\"PG\", \"Novel\", \"Fast-Abs-RL\", \"Bottom-Up\", \"DCA\", \"Reference\"][::-1]\n",
    "\n",
    "import matplotlib\n",
    "matplotlib.rcParams[\"font.size\"] = 22\n",
    "\n",
    "with sns.color_palette(\"Set2\"):\n",
    "    cp_mrg_dist = cp_mrg_dist.rename(index={k: v for k, v in zip(systems, tru_sys)})\n",
    "    cp_mrg_dist = cp_mrg_dist.reindex(as_in_paper)\n",
    "    bc = cp_mrg_dist[\"bc\"].values\n",
    "    ic = cp_mrg_dist[\"ic\"].values\n",
    "    re = cp_mrg_dist[\"re\"].values\n",
    "    ot = cp_mrg_dist[\"ot\"].values\n",
    "    cp_mrg_dist = cp_mrg_dist.rename(columns=rev_merge_d)\n",
    "    display(cp_mrg_dist)\n",
    "    \n",
    "    width = 0.45\n",
    "    bc_plt = plt.barh(as_in_paper, bc, width)\n",
    "    ic_plt = plt.barh(as_in_paper, ic, width, left=bc)\n",
    "    re_plt = plt.barh(as_in_paper, re, width, left=bc + ic)\n",
    "    ot_plt = plt.barh(as_in_paper, ot, width, left=bc + ic + re)\n",
    "    \n",
    "    fontsize = 13\n",
    "    plt.ylabel(\"Systems\", fontsize=fontsize)\n",
    "    plt.tick_params(labelsize=fontsize)\n",
    "    \n",
    "    plt.legend((bc_plt[0], ic_plt[0], re_plt[0], ot_plt[0]), rev_merge_d.values(),\n",
    "               bbox_to_anchor=(0., 1.1, 1., .1), ncol=2,  mode=\"expand\", borderaxespad=0.,\n",
    "               fontsize=fontsize)\n",
    "    \n",
    "    plt.tight_layout()\n",
    "    plt.savefig(f\"merge_dist-{fontsize}.pdf\")"
   ]
  },
  {
   "cell_type": "markdown",
   "metadata": {},
   "source": [
    "---\n",
    "## Averages over Merging"
   ]
  },
  {
   "cell_type": "markdown",
   "metadata": {},
   "source": [
    "### Tabular output"
   ]
  },
  {
   "cell_type": "code",
   "execution_count": 9,
   "metadata": {},
   "outputs": [
    {
     "data": {
      "text/html": [
       "<div>\n",
       "<style scoped>\n",
       "    .dataframe tbody tr th:only-of-type {\n",
       "        vertical-align: middle;\n",
       "    }\n",
       "\n",
       "    .dataframe tbody tr th {\n",
       "        vertical-align: top;\n",
       "    }\n",
       "\n",
       "    .dataframe thead th {\n",
       "        text-align: right;\n",
       "    }\n",
       "</style>\n",
       "<table border=\"1\" class=\"dataframe\">\n",
       "  <thead>\n",
       "    <tr style=\"text-align: right;\">\n",
       "      <th></th>\n",
       "      <th>gramm</th>\n",
       "      <th>faith</th>\n",
       "      <th>cover</th>\n",
       "      <th>prob</th>\n",
       "    </tr>\n",
       "    <tr>\n",
       "      <th>merge</th>\n",
       "      <th></th>\n",
       "      <th></th>\n",
       "      <th></th>\n",
       "      <th></th>\n",
       "    </tr>\n",
       "  </thead>\n",
       "  <tbody>\n",
       "    <tr>\n",
       "      <th>bc</th>\n",
       "      <td>0.869173</td>\n",
       "      <td>0.825564</td>\n",
       "      <td>0.944361</td>\n",
       "      <td>0.292436</td>\n",
       "    </tr>\n",
       "    <tr>\n",
       "      <th>ic</th>\n",
       "      <td>0.802511</td>\n",
       "      <td>0.694064</td>\n",
       "      <td>0.84589</td>\n",
       "      <td>0.385224</td>\n",
       "    </tr>\n",
       "    <tr>\n",
       "      <th>re</th>\n",
       "      <td>0.820408</td>\n",
       "      <td>0.530612</td>\n",
       "      <td>0.77551</td>\n",
       "      <td>0.10774</td>\n",
       "    </tr>\n",
       "    <tr>\n",
       "      <th>ot</th>\n",
       "      <td>0.682377</td>\n",
       "      <td>0.252049</td>\n",
       "      <td>0.270492</td>\n",
       "      <td>0.2146</td>\n",
       "    </tr>\n",
       "  </tbody>\n",
       "</table>\n",
       "</div>"
      ],
      "text/plain": [
       "          gramm     faith     cover      prob\n",
       "merge                                        \n",
       "bc     0.869173  0.825564  0.944361  0.292436\n",
       "ic     0.802511  0.694064   0.84589  0.385224\n",
       "re     0.820408  0.530612   0.77551   0.10774\n",
       "ot     0.682377  0.252049  0.270492    0.2146"
      ]
     },
     "execution_count": 9,
     "metadata": {},
     "output_type": "execute_result"
    }
   ],
   "source": [
    "avg_over_merge = pd.DataFrame(columns=[\"merge\", \"gramm\", \"faith\", \"cover\", \"prob\"])\n",
    "avg_over_merge[\"merge\"] = merge_opts\n",
    "avg_over_merge.set_index([\"merge\"], inplace=True)\n",
    "\n",
    "G_mask = (processed[grm_selec] == True)\n",
    "F_mask = (processed[fth_selec] == True)\n",
    "C_mask = (processed[cvr_selec] == True)\n",
    "\n",
    "p_gramm = G_mask.sum().sum() / n_exs  # p(grammatical)\n",
    "p_faith = F_mask.sum().sum() / n_exs  # p(faithful)\n",
    "p_cover = C_mask.sum().sum() / n_exs  # p(covered)\n",
    "\n",
    "for opt in merge_opts:\n",
    "    mrg_mask = (processed[mrg_selec] == opt).astype(int)\n",
    "    avg_over_merge.loc[opt, \"prob\"] = mrg_mask.sum().sum() / n_exs\n",
    "    \n",
    "    avg_over_merge.loc[opt, \"gramm\"] = (G_mask.values * mrg_mask.values).sum() / mrg_mask.sum().sum()\n",
    "    avg_over_merge.loc[opt, \"faith\"] = (F_mask.values * mrg_mask.values).sum() / mrg_mask.sum().sum()\n",
    "    avg_over_merge.loc[opt, \"cover\"] = (C_mask.values * mrg_mask.values).sum() / mrg_mask.sum().sum()\n",
    "    \n",
    "assert (avg_over_merge[\"gramm\"] * avg_over_merge[\"prob\"]).sum() - p_gramm <= eps\n",
    "assert (avg_over_merge[\"faith\"] * avg_over_merge[\"prob\"]).sum() - p_faith <= eps\n",
    "assert (avg_over_merge[\"cover\"] * avg_over_merge[\"prob\"]).sum() - p_cover <= eps\n",
    "\n",
    "avg_over_merge"
   ]
  },
  {
   "cell_type": "markdown",
   "metadata": {},
   "source": [
    "### Graphical output"
   ]
  },
  {
   "cell_type": "code",
   "execution_count": 10,
   "metadata": {},
   "outputs": [
    {
     "name": "stderr",
     "output_type": "stream",
     "text": [
      "/Users/ionlights/.conda/envs/correctness-cpu/lib/python3.6/site-packages/seaborn/categorical.py:3692: UserWarning: The `size` paramter has been renamed to `height`; please update your code.\n",
      "  warnings.warn(msg, UserWarning)\n"
     ]
    },
    {
     "data": {
      "image/png": "[encoded data removed]",
      "text/plain": [
       "<Figure size 434.1x360 with 1 Axes>"
      ]
     },
     "metadata": {},
     "output_type": "display_data"
    }
   ],
   "source": [
    "avg_over_merge_plot = avg_over_merge.drop(columns=[\"prob\"]).reset_index().sort_values(by=[\"faith\"])\n",
    "avg_over_merge_plot = pd.melt(avg_over_merge_plot, id_vars=[\"merge\"], value_vars=[\"faith\", \"gramm\", \"cover\"],\n",
    "                              var_name=\"metric\", value_name=\"probability\")\n",
    "avg_over_merge_plot[\"merge\"] = avg_over_merge_plot[\"merge\"].map(rev_merge_d)\n",
    "\n",
    "with sns.color_palette(\"Set2\"):\n",
    "    sns_avg_over_merge_plot = sns.catplot(x=\"probability\", y=\"merge\", hue=\"metric\",\n",
    "                                          data=avg_over_merge_plot, size=5, kind=\"bar\")\n",
    "    sns_avg_over_merge_plot.fig.savefig(\"avg_over_merge.pdf\")\n",
    "    sns_avg_over_merge_plot"
   ]
  },
  {
   "cell_type": "markdown",
   "metadata": {},
   "source": [
    "---\n",
    "## Distribution over Merging for `[unfaithful, ungrammatical, uncoverage]`"
   ]
  },
  {
   "cell_type": "markdown",
   "metadata": {},
   "source": [
    "### Tabular output"
   ]
  },
  {
   "cell_type": "code",
   "execution_count": 11,
   "metadata": {
    "scrolled": false
   },
   "outputs": [
    {
     "data": {
      "text/markdown": [
       "### Unfaithful"
      ],
      "text/plain": [
       "<IPython.core.display.Markdown object>"
      ]
     },
     "metadata": {},
     "output_type": "display_data"
    },
    {
     "data": {
      "text/html": [
       "<div>\n",
       "<style scoped>\n",
       "    .dataframe tbody tr th:only-of-type {\n",
       "        vertical-align: middle;\n",
       "    }\n",
       "\n",
       "    .dataframe tbody tr th {\n",
       "        vertical-align: top;\n",
       "    }\n",
       "\n",
       "    .dataframe thead th {\n",
       "        text-align: right;\n",
       "    }\n",
       "</style>\n",
       "<table border=\"1\" class=\"dataframe\">\n",
       "  <thead>\n",
       "    <tr style=\"text-align: right;\">\n",
       "      <th></th>\n",
       "      <th>count</th>\n",
       "      <th>total</th>\n",
       "      <th>percent</th>\n",
       "    </tr>\n",
       "    <tr>\n",
       "      <th>merge</th>\n",
       "      <th></th>\n",
       "      <th></th>\n",
       "      <th></th>\n",
       "    </tr>\n",
       "  </thead>\n",
       "  <tbody>\n",
       "    <tr>\n",
       "      <th>bc</th>\n",
       "      <td>20</td>\n",
       "      <td>665</td>\n",
       "      <td>0.030075</td>\n",
       "    </tr>\n",
       "    <tr>\n",
       "      <th>ic</th>\n",
       "      <td>42</td>\n",
       "      <td>876</td>\n",
       "      <td>0.047945</td>\n",
       "    </tr>\n",
       "    <tr>\n",
       "      <th>re</th>\n",
       "      <td>19</td>\n",
       "      <td>245</td>\n",
       "      <td>0.077551</td>\n",
       "    </tr>\n",
       "    <tr>\n",
       "      <th>ot</th>\n",
       "      <td>39</td>\n",
       "      <td>488</td>\n",
       "      <td>0.079918</td>\n",
       "    </tr>\n",
       "  </tbody>\n",
       "</table>\n",
       "</div>"
      ],
      "text/plain": [
       "       count  total   percent\n",
       "merge                        \n",
       "bc        20    665  0.030075\n",
       "ic        42    876  0.047945\n",
       "re        19    245  0.077551\n",
       "ot        39    488  0.079918"
      ]
     },
     "metadata": {},
     "output_type": "display_data"
    },
    {
     "data": {
      "text/markdown": [
       "### Ungrammatical"
      ],
      "text/plain": [
       "<IPython.core.display.Markdown object>"
      ]
     },
     "metadata": {},
     "output_type": "display_data"
    },
    {
     "data": {
      "text/html": [
       "<div>\n",
       "<style scoped>\n",
       "    .dataframe tbody tr th:only-of-type {\n",
       "        vertical-align: middle;\n",
       "    }\n",
       "\n",
       "    .dataframe tbody tr th {\n",
       "        vertical-align: top;\n",
       "    }\n",
       "\n",
       "    .dataframe thead th {\n",
       "        text-align: right;\n",
       "    }\n",
       "</style>\n",
       "<table border=\"1\" class=\"dataframe\">\n",
       "  <thead>\n",
       "    <tr style=\"text-align: right;\">\n",
       "      <th></th>\n",
       "      <th>count</th>\n",
       "      <th>total</th>\n",
       "      <th>percent</th>\n",
       "    </tr>\n",
       "    <tr>\n",
       "      <th>merge</th>\n",
       "      <th></th>\n",
       "      <th></th>\n",
       "      <th></th>\n",
       "    </tr>\n",
       "  </thead>\n",
       "  <tbody>\n",
       "    <tr>\n",
       "      <th>bc</th>\n",
       "      <td>11</td>\n",
       "      <td>665</td>\n",
       "      <td>0.016541</td>\n",
       "    </tr>\n",
       "    <tr>\n",
       "      <th>ic</th>\n",
       "      <td>17</td>\n",
       "      <td>876</td>\n",
       "      <td>0.019406</td>\n",
       "    </tr>\n",
       "    <tr>\n",
       "      <th>re</th>\n",
       "      <td>5</td>\n",
       "      <td>245</td>\n",
       "      <td>0.020408</td>\n",
       "    </tr>\n",
       "    <tr>\n",
       "      <th>ot</th>\n",
       "      <td>16</td>\n",
       "      <td>488</td>\n",
       "      <td>0.032787</td>\n",
       "    </tr>\n",
       "  </tbody>\n",
       "</table>\n",
       "</div>"
      ],
      "text/plain": [
       "       count  total   percent\n",
       "merge                        \n",
       "bc        11    665  0.016541\n",
       "ic        17    876  0.019406\n",
       "re         5    245  0.020408\n",
       "ot        16    488  0.032787"
      ]
     },
     "metadata": {},
     "output_type": "display_data"
    },
    {
     "data": {
      "text/markdown": [
       "### Uncoverage"
      ],
      "text/plain": [
       "<IPython.core.display.Markdown object>"
      ]
     },
     "metadata": {},
     "output_type": "display_data"
    },
    {
     "data": {
      "text/html": [
       "<div>\n",
       "<style scoped>\n",
       "    .dataframe tbody tr th:only-of-type {\n",
       "        vertical-align: middle;\n",
       "    }\n",
       "\n",
       "    .dataframe tbody tr th {\n",
       "        vertical-align: top;\n",
       "    }\n",
       "\n",
       "    .dataframe thead th {\n",
       "        text-align: right;\n",
       "    }\n",
       "</style>\n",
       "<table border=\"1\" class=\"dataframe\">\n",
       "  <thead>\n",
       "    <tr style=\"text-align: right;\">\n",
       "      <th></th>\n",
       "      <th>count</th>\n",
       "      <th>total</th>\n",
       "      <th>percent</th>\n",
       "    </tr>\n",
       "    <tr>\n",
       "      <th>merge</th>\n",
       "      <th></th>\n",
       "      <th></th>\n",
       "      <th></th>\n",
       "    </tr>\n",
       "  </thead>\n",
       "  <tbody>\n",
       "    <tr>\n",
       "      <th>bc</th>\n",
       "      <td>8</td>\n",
       "      <td>665</td>\n",
       "      <td>0.012030</td>\n",
       "    </tr>\n",
       "    <tr>\n",
       "      <th>ic</th>\n",
       "      <td>16</td>\n",
       "      <td>876</td>\n",
       "      <td>0.018265</td>\n",
       "    </tr>\n",
       "    <tr>\n",
       "      <th>re</th>\n",
       "      <td>6</td>\n",
       "      <td>245</td>\n",
       "      <td>0.024490</td>\n",
       "    </tr>\n",
       "    <tr>\n",
       "      <th>ot</th>\n",
       "      <td>27</td>\n",
       "      <td>488</td>\n",
       "      <td>0.055328</td>\n",
       "    </tr>\n",
       "  </tbody>\n",
       "</table>\n",
       "</div>"
      ],
      "text/plain": [
       "       count  total   percent\n",
       "merge                        \n",
       "bc         8    665  0.012030\n",
       "ic        16    876  0.018265\n",
       "re         6    245  0.024490\n",
       "ot        27    488  0.055328"
      ]
     },
     "metadata": {},
     "output_type": "display_data"
    }
   ],
   "source": [
    "# Distribution over the merging categories (only on uncoverage summ sents -- consider a summ sent to be \n",
    "# uncoverage if >= 51% of the responses were NO for coverage)\n",
    "idx_mask = np.arange(start=1, stop=n_sys + 1)\n",
    "def merge_dist_for(cols: list):\n",
    "    df = pd.DataFrame(columns=[\"merge\"])\n",
    "    df[\"merge\"] = merge_opts\n",
    "    df.set_index([\"merge\"], inplace=True)\n",
    "    df[\"count\"] = 0\n",
    "    df[\"total\"] = [(processed[mrg_selec] == opt).sum().sum() for opt in merge_opts]\n",
    "    df[\"percent\"] = 0.\n",
    "    \n",
    "    mask = np.empty_like(processed[sys_selec])\n",
    "    idx = 0\n",
    "    for article, responses in processed.groupby(\"Answer.article_hash\"):\n",
    "        un_cols = ((1 - responses[cols].mean().values) > 0.5) * idx_mask - 1\n",
    "        \n",
    "        off = responses.shape[0]\n",
    "        mask[idx:(idx + off)] = np.tile(un_cols, reps=off).reshape(off, n_sys)\n",
    "        idx += off\n",
    "        \n",
    "        selects = [v for v in un_cols if v > -1]\n",
    "        df_sele = responses.iloc[0][mrg_selec].values[selects]\n",
    "        df.loc[df_sele, \"count\"] += 1\n",
    "        \n",
    "    df[\"percent\"] = df[\"count\"] / df[\"total\"]\n",
    "        \n",
    "    return df, mask\n",
    "\n",
    "from IPython.display import Markdown\n",
    "\n",
    "display(Markdown(\"### Unfaithful\"))\n",
    "merge_dist_unfaith, mask_unfaith = merge_dist_for(fth_selec)\n",
    "display(merge_dist_unfaith)\n",
    "\n",
    "display(Markdown(\"### Ungrammatical\"))\n",
    "merge_dist_ungramm, mask_ungramm = merge_dist_for(grm_selec)\n",
    "display(merge_dist_ungramm)\n",
    "\n",
    "display(Markdown(\"### Uncoverage\"))\n",
    "merge_dist_uncover, mask_uncover = merge_dist_for(cvr_selec)\n",
    "display(merge_dist_uncover)"
   ]
  },
  {
   "cell_type": "markdown",
   "metadata": {},
   "source": [
    "### Graphical output"
   ]
  },
  {
   "cell_type": "code",
   "execution_count": 12,
   "metadata": {},
   "outputs": [
    {
     "data": {
      "image/png": "[encoded data removed]",
      "text/plain": [
       "<Figure size 472.225x360 with 1 Axes>"
      ]
     },
     "metadata": {},
     "output_type": "display_data"
    }
   ],
   "source": [
    "merge_dist_uns = pd.DataFrame(columns=[\"merge\", \"klass\", \"percent\"])\n",
    "merge_dist_uns[\"merge\"] = merge_opts * 3\n",
    "merge_dist_uns[\"klass\"] = [\"unfaithful\"] * 4 + [\"ungrammatical\"] * 4 + [\"uncoverage\"] * 4\n",
    "percents = list(merge_dist_unfaith[\"percent\"]) + list(merge_dist_ungramm[\"percent\"]) + list(merge_dist_uncover[\"percent\"])\n",
    "merge_dist_uns[\"percent\"] = percents\n",
    "\n",
    "# merge_dist_unfaith.plot(kind=\"barh\", y=\"percent\")\n",
    "# merge_dist_uncover.plot(kind=\"barh\", y=\"percent\")\n",
    "# merge_dist_ungramm.plot(kind=\"barh\", y=\"percent\")\n",
    "\n",
    "with sns.color_palette(\"Set2\"):\n",
    "    sns_merge_dist_uns = sns.catplot(kind=\"bar\", y=\"merge\", x=\"percent\", hue=\"klass\", data=merge_dist_uns)\n",
    "    sns_merge_dist_uns.fig.savefig(\"merge_dist_uns.pdf\")"
   ]
  },
  {
   "cell_type": "markdown",
   "metadata": {},
   "source": [
    "---\n",
    "## 3 Examples (per system) of `[unfaithful, ungrammatical, uncoverage]`"
   ]
  },
  {
   "cell_type": "code",
   "execution_count": 13,
   "metadata": {
    "scrolled": false
   },
   "outputs": [
    {
     "data": {
      "text/markdown": [
       "---\n",
       "## bottom-up"
      ],
      "text/plain": [
       "<IPython.core.display.Markdown object>"
      ]
     },
     "metadata": {},
     "output_type": "display_data"
    },
    {
     "data": {
      "text/markdown": [
       "### unfaithful"
      ],
      "text/plain": [
       "<IPython.core.display.Markdown object>"
      ]
     },
     "metadata": {},
     "output_type": "display_data"
    },
    {
     "data": {
      "text/markdown": [
       "**man-of-the-moment harry kane of tottenham and england sold him to wolves.**"
      ],
      "text/plain": [
       "<IPython.core.display.Markdown object>"
      ]
     },
     "metadata": {},
     "output_type": "display_data"
    },
    {
     "data": {
      "text/markdown": [
       "- **source** _[2]_: Stand up and take a bow anyone who came up with Benik Afobe, who was one of Arsenal&apos;s own before they loaned him to MK Dons and sold him to Wolves."
      ],
      "text/plain": [
       "<IPython.core.display.Markdown object>"
      ]
     },
     "metadata": {},
     "output_type": "display_data"
    },
    {
     "data": {
      "text/markdown": [
       "- **source** _[3]_: Afobe is young, electric-paced and on 28 goals this season - one behind man-of-the-moment Harry Kane of Tottenham and England."
      ],
      "text/plain": [
       "<IPython.core.display.Markdown object>"
      ]
     },
     "metadata": {},
     "output_type": "display_data"
    },
    {
     "data": {
      "text/markdown": [
       "**casey and justin rose will be three shots behind the leaders.**"
      ],
      "text/plain": [
       "<IPython.core.display.Markdown object>"
      ]
     },
     "metadata": {},
     "output_type": "display_data"
    },
    {
     "data": {
      "text/markdown": [
       "- **source** _[4]_: It was a decent achievement in itself to make the halfway cut, and it earned him a third round draw alongside two rather more famous Englishmen in Paul Casey and Justin Rose."
      ],
      "text/plain": [
       "<IPython.core.display.Markdown object>"
      ]
     },
     "metadata": {},
     "output_type": "display_data"
    },
    {
     "data": {
      "text/markdown": [
       "- **source** _[5]_: Kelvin Day is three shots behind the leaders and remains in with a chance of making the Masters."
      ],
      "text/plain": [
       "<IPython.core.display.Markdown object>"
      ]
     },
     "metadata": {},
     "output_type": "display_data"
    },
    {
     "data": {
      "text/markdown": [
       "**peter greste&apos;s military commemoration has become a key game for australia.**"
      ],
      "text/plain": [
       "<IPython.core.display.Markdown object>"
      ]
     },
     "metadata": {},
     "output_type": "display_data"
    },
    {
     "data": {
      "text/markdown": [
       "- **source** _[6]_: The man is Peter Greste."
      ],
      "text/plain": [
       "<IPython.core.display.Markdown object>"
      ]
     },
     "metadata": {},
     "output_type": "display_data"
    },
    {
     "data": {
      "text/markdown": [
       "- **source** _[10]_: There is nothing intrinsically wrong with military commemoration that honors the dead."
      ],
      "text/plain": [
       "<IPython.core.display.Markdown object>"
      ]
     },
     "metadata": {},
     "output_type": "display_data"
    },
    {
     "data": {
      "text/markdown": [
       "### ungrammatical"
      ],
      "text/plain": [
       "<IPython.core.display.Markdown object>"
      ]
     },
     "metadata": {},
     "output_type": "display_data"
    },
    {
     "data": {
      "text/markdown": [
       "**philippe senderos and kieran richardson are doubts along with scott sinclair and ashley westwood.**"
      ],
      "text/plain": [
       "<IPython.core.display.Markdown object>"
      ]
     },
     "metadata": {},
     "output_type": "display_data"
    },
    {
     "data": {
      "text/markdown": [
       "- **source** _[5]_: Alan Hutton limped off in Saturday&apos;s 3-1 defeat at Manchester United with an ankle problem and has been ruled out of Tuesday&apos;s game along with Scott Sinclair and Ashley Westwood."
      ],
      "text/plain": [
       "<IPython.core.display.Markdown object>"
      ]
     },
     "metadata": {},
     "output_type": "display_data"
    },
    {
     "data": {
      "text/markdown": [
       "- **source** _[7]_: Philippe Senderos and Kieran Richardson (both calf) are doubts along with Tom Cleverley (adductor) and Aly Cissokho (groin) - although they are training - while Libor Kozak is sidelined as he continues to recover from a broken leg."
      ],
      "text/plain": [
       "<IPython.core.display.Markdown object>"
      ]
     },
     "metadata": {},
     "output_type": "display_data"
    },
    {
     "data": {
      "text/markdown": [
       "**&quot;the gap is even greater for women of color,&quot; clinton says.**"
      ],
      "text/plain": [
       "<IPython.core.display.Markdown object>"
      ]
     },
     "metadata": {},
     "output_type": "display_data"
    },
    {
     "data": {
      "text/markdown": [
       "- **source** _[3]_: And the gap is even greater for women of color."
      ],
      "text/plain": [
       "<IPython.core.display.Markdown object>"
      ]
     },
     "metadata": {},
     "output_type": "display_data"
    },
    {
     "data": {
      "text/markdown": [
       "- **source** _[16]_: &quot;Everyday Americans need a champion,&quot; Clinton said in her campaign launch video, &quot;and I want to be that champion.&quot;"
      ],
      "text/plain": [
       "<IPython.core.display.Markdown object>"
      ]
     },
     "metadata": {},
     "output_type": "display_data"
    },
    {
     "data": {
      "text/markdown": [
       "**jordan henderson lost the ball 23 times in liverpool&apos;s 1-0 win over newcastle.**"
      ],
      "text/plain": [
       "<IPython.core.display.Markdown object>"
      ]
     },
     "metadata": {},
     "output_type": "display_data"
    },
    {
     "data": {
      "text/markdown": [
       "- **source** _[4]_: Jordan Henderson (left) toiled as a wing back in Liverpool&apos;s defeat against Arsenal and lost the ball 23 times."
      ],
      "text/plain": [
       "<IPython.core.display.Markdown object>"
      ]
     },
     "metadata": {},
     "output_type": "display_data"
    },
    {
     "data": {
      "text/markdown": [
       "- **source** _[12]_: John O&apos;Shea only sprinted 11.9 metres during his impressive display in Sunderland&apos;s 1-0 win over Newcastle."
      ],
      "text/plain": [
       "<IPython.core.display.Markdown object>"
      ]
     },
     "metadata": {},
     "output_type": "display_data"
    },
    {
     "data": {
      "text/markdown": [
       "### uncoverage"
      ],
      "text/plain": [
       "<IPython.core.display.Markdown object>"
      ]
     },
     "metadata": {},
     "output_type": "display_data"
    },
    {
     "data": {
      "text/markdown": [
       "**jordan henderson lost the ball 23 times in liverpool&apos;s 1-0 win over newcastle.**"
      ],
      "text/plain": [
       "<IPython.core.display.Markdown object>"
      ]
     },
     "metadata": {},
     "output_type": "display_data"
    },
    {
     "data": {
      "text/markdown": [
       "- **source** _[4]_: Jordan Henderson (left) toiled as a wing back in Liverpool&apos;s defeat against Arsenal and lost the ball 23 times."
      ],
      "text/plain": [
       "<IPython.core.display.Markdown object>"
      ]
     },
     "metadata": {},
     "output_type": "display_data"
    },
    {
     "data": {
      "text/markdown": [
       "- **source** _[12]_: John O&apos;Shea only sprinted 11.9 metres during his impressive display in Sunderland&apos;s 1-0 win over Newcastle."
      ],
      "text/plain": [
       "<IPython.core.display.Markdown object>"
      ]
     },
     "metadata": {},
     "output_type": "display_data"
    },
    {
     "data": {
      "text/markdown": [
       "**phil mickelson will end the masters at augusta next week.**"
      ],
      "text/plain": [
       "<IPython.core.display.Markdown object>"
      ]
     },
     "metadata": {},
     "output_type": "display_data"
    },
    {
     "data": {
      "text/markdown": [
       "- **source** _[4]_: Phil Mickelson capped his resurgence in form at the Houston Open with rounds of 66 or 67."
      ],
      "text/plain": [
       "<IPython.core.display.Markdown object>"
      ]
     },
     "metadata": {},
     "output_type": "display_data"
    },
    {
     "data": {
      "text/markdown": [
       "- **source** _[6]_: Tiger Woods confirmed his participation at The Masters at Augusta next week."
      ],
      "text/plain": [
       "<IPython.core.display.Markdown object>"
      ]
     },
     "metadata": {},
     "output_type": "display_data"
    },
    {
     "data": {
      "text/markdown": [
       "**iranian foreign minister javad zarif: &quot;long live zarif&quot;**"
      ],
      "text/plain": [
       "<IPython.core.display.Markdown object>"
      ]
     },
     "metadata": {},
     "output_type": "display_data"
    },
    {
     "data": {
      "text/markdown": [
       "- **source** _[15]_: Iranian foreign minister Javad Zarif -- who led the Iranian negotiation team -- received a hero&apos;s welcome as he arrived in Iran on a sunny Friday morning."
      ],
      "text/plain": [
       "<IPython.core.display.Markdown object>"
      ]
     },
     "metadata": {},
     "output_type": "display_data"
    },
    {
     "data": {
      "text/markdown": [
       "- **source** _[16]_: &quot;Long live Zarif,&quot; crowds chanted as the vehicle rolled slowly down the packed street, carrying the man who struck the historic deal."
      ],
      "text/plain": [
       "<IPython.core.display.Markdown object>"
      ]
     },
     "metadata": {},
     "output_type": "display_data"
    },
    {
     "data": {
      "text/markdown": [
       "---\n",
       "## dca"
      ],
      "text/plain": [
       "<IPython.core.display.Markdown object>"
      ]
     },
     "metadata": {},
     "output_type": "display_data"
    },
    {
     "data": {
      "text/markdown": [
       "### unfaithful"
      ],
      "text/plain": [
       "<IPython.core.display.Markdown object>"
      ]
     },
     "metadata": {},
     "output_type": "display_data"
    },
    {
     "data": {
      "text/markdown": [
       "**gray&apos;s death has led to the internet calling graham #motheroftheyear &quot; not at all &quot;. &quot;**"
      ],
      "text/plain": [
       "<IPython.core.display.Markdown object>"
      ]
     },
     "metadata": {},
     "output_type": "display_data"
    },
    {
     "data": {
      "text/markdown": [
       "- **source** _[3]_: The video of Graham yanking her son, Michael Singleton, and slapping him with a right hand as CNN affiliate WMAR recorded has led to the Internet calling Graham #motheroftheyear."
      ],
      "text/plain": [
       "<IPython.core.display.Markdown object>"
      ]
     },
     "metadata": {},
     "output_type": "display_data"
    },
    {
     "data": {
      "text/markdown": [
       "- **source** _[13]_: Gray&apos;s death has sparked daily protests over police brutality."
      ],
      "text/plain": [
       "<IPython.core.display.Markdown object>"
      ]
     },
     "metadata": {},
     "output_type": "display_data"
    },
    {
     "data": {
      "text/markdown": [
       "**the big bopper, &quot; n - word, &quot; the american pie, &quot; says mclean&apos;s&apos; american pie.**"
      ],
      "text/plain": [
       "<IPython.core.display.Markdown object>"
      ]
     },
     "metadata": {},
     "output_type": "display_data"
    },
    {
     "data": {
      "text/markdown": [
       "- **source** _[0]_: (CNN) &quot;A long, long, time ago...&quot; Those five words, when uttered or sung, makes baby boomers immediately think of Don McLean&apos;s pop masterpiece &quot;American Pie.&quot;"
      ],
      "text/plain": [
       "<IPython.core.display.Markdown object>"
      ]
     },
     "metadata": {},
     "output_type": "display_data"
    },
    {
     "data": {
      "text/markdown": [
       "- **source** _[5]_: McLean was a paperboy when, on February 3, 1959, he saw that Buddy Holly, Ritchie Valens and J.P. &quot;The Big Bopper&quot; Richardson had been tragically killed in an airplane crash in Clear Lake, Iowa."
      ],
      "text/plain": [
       "<IPython.core.display.Markdown object>"
      ]
     },
     "metadata": {},
     "output_type": "display_data"
    },
    {
     "data": {
      "text/markdown": [
       "**woods reportedly shot 74 with a round of 66 with a 67 at the masters.**"
      ],
      "text/plain": [
       "<IPython.core.display.Markdown object>"
      ]
     },
     "metadata": {},
     "output_type": "display_data"
    },
    {
     "data": {
      "text/markdown": [
       "- **source** _[4]_: Phil Mickelson capped his resurgence in form at the Houston Open with rounds of 66 or 67."
      ],
      "text/plain": [
       "<IPython.core.display.Markdown object>"
      ]
     },
     "metadata": {},
     "output_type": "display_data"
    },
    {
     "data": {
      "text/markdown": [
       "- **source** _[19]_: Woods reportedly shot a round of 74 in practice at Augusta on Tuesday and had a return of the chipping yips."
      ],
      "text/plain": [
       "<IPython.core.display.Markdown object>"
      ]
     },
     "metadata": {},
     "output_type": "display_data"
    },
    {
     "data": {
      "text/markdown": [
       "### ungrammatical"
      ],
      "text/plain": [
       "<IPython.core.display.Markdown object>"
      ]
     },
     "metadata": {},
     "output_type": "display_data"
    },
    {
     "data": {
      "text/markdown": [
       "**alan hutton has been ruled out of tuesday&apos;s game against aston villa.**"
      ],
      "text/plain": [
       "<IPython.core.display.Markdown object>"
      ]
     },
     "metadata": {},
     "output_type": "display_data"
    },
    {
     "data": {
      "text/markdown": [
       "- **source** _[3]_: Aston Villa."
      ],
      "text/plain": [
       "<IPython.core.display.Markdown object>"
      ]
     },
     "metadata": {},
     "output_type": "display_data"
    },
    {
     "data": {
      "text/markdown": [
       "- **source** _[5]_: Alan Hutton limped off in Saturday&apos;s 3-1 defeat at Manchester United with an ankle problem and has been ruled out of Tuesday&apos;s game along with Scott Sinclair and Ashley Westwood."
      ],
      "text/plain": [
       "<IPython.core.display.Markdown object>"
      ]
     },
     "metadata": {},
     "output_type": "display_data"
    },
    {
     "data": {
      "text/markdown": [
       "**england beat china 2 - 1 in the premier league on the day of the world cup.**"
      ],
      "text/plain": [
       "<IPython.core.display.Markdown object>"
      ]
     },
     "metadata": {},
     "output_type": "display_data"
    },
    {
     "data": {
      "text/markdown": [
       "- **source** _[6]_: Kirby, a 21-year-old playing in the second division of the Women&apos;s Super League, was impressive throughout, a nimble-footed presence who China struggled to deal with."
      ],
      "text/plain": [
       "<IPython.core.display.Markdown object>"
      ]
     },
     "metadata": {},
     "output_type": "display_data"
    },
    {
     "data": {
      "text/markdown": [
       "- **source** _[16]_: This was England&apos;s last home game before Mark Sampson&apos;s squad head to Canada in May, ahead of a World Cup campaign that begins against France in Moncton on June 9."
      ],
      "text/plain": [
       "<IPython.core.display.Markdown object>"
      ]
     },
     "metadata": {},
     "output_type": "display_data"
    },
    {
     "data": {
      "text/markdown": [
       "**surrey - born kelvin day has only played a handful of events on the pga tour event.**"
      ],
      "text/plain": [
       "<IPython.core.display.Markdown object>"
      ]
     },
     "metadata": {},
     "output_type": "display_data"
    },
    {
     "data": {
      "text/markdown": [
       "- **source** _[1]_: Surrey-born Kelvin Day has only played a handful of events on the subsidiary circuit, the Web.com Tour but decided to enter qualifying for the Houston event."
      ],
      "text/plain": [
       "<IPython.core.display.Markdown object>"
      ]
     },
     "metadata": {},
     "output_type": "display_data"
    },
    {
     "data": {
      "text/markdown": [
       "- **source** _[9]_: But it is worth bearing in mind that a victory would not only earn him a PGA Tour card but the last spot in the field for Augusta."
      ],
      "text/plain": [
       "<IPython.core.display.Markdown object>"
      ]
     },
     "metadata": {},
     "output_type": "display_data"
    },
    {
     "data": {
      "text/markdown": [
       "### uncoverage"
      ],
      "text/plain": [
       "<IPython.core.display.Markdown object>"
      ]
     },
     "metadata": {},
     "output_type": "display_data"
    },
    {
     "data": {
      "text/markdown": [
       "**manchester united beat manchester united 2 - 1 in the champions league.**"
      ],
      "text/plain": [
       "<IPython.core.display.Markdown object>"
      ]
     },
     "metadata": {},
     "output_type": "display_data"
    },
    {
     "data": {
      "text/markdown": [
       "- **source** _[1]_: Prior to the international break the Reds&apos; 13-match unbeaten league run was ended at home to Champions League-chasing rivals Manchester United, leaving them five points adrift of the qualification places."
      ],
      "text/plain": [
       "<IPython.core.display.Markdown object>"
      ]
     },
     "metadata": {},
     "output_type": "display_data"
    },
    {
     "data": {
      "text/markdown": [
       "- **source** _[17]_: &apos;The key for us in the first-half against Manchester United was that we did n&apos;t keep the ball well enough and, positionally, we were never in position to receive the ball and press the ball."
      ],
      "text/plain": [
       "<IPython.core.display.Markdown object>"
      ]
     },
     "metadata": {},
     "output_type": "display_data"
    },
    {
     "data": {
      "text/markdown": [
       "**qpr are without a trio of key players for their premier league clash.**"
      ],
      "text/plain": [
       "<IPython.core.display.Markdown object>"
      ]
     },
     "metadata": {},
     "output_type": "display_data"
    },
    {
     "data": {
      "text/markdown": [
       "- **source** _[4]_: Aston Villa boss Tim Sherwood is definitely without a trio of key players for their key game with QPR."
      ],
      "text/plain": [
       "<IPython.core.display.Markdown object>"
      ]
     },
     "metadata": {},
     "output_type": "display_data"
    },
    {
     "data": {
      "text/markdown": [
       "- **source** _[10]_: QPR are without Chilean winger Eduardo Vargas and South Korean left-back Yun Suk-young for Tuesday&apos;s Barclays Premier League clash at Aston Villa."
      ],
      "text/plain": [
       "<IPython.core.display.Markdown object>"
      ]
     },
     "metadata": {},
     "output_type": "display_data"
    },
    {
     "data": {
      "text/markdown": [
       "**gerardo martino&apos;s side beat ecuador 4 - 2 in a friendly on saturday.**"
      ],
      "text/plain": [
       "<IPython.core.display.Markdown object>"
      ]
     },
     "metadata": {},
     "output_type": "display_data"
    },
    {
     "data": {
      "text/markdown": [
       "- **source** _[1]_: Gerardo Martino&apos;s Argentina, with captain Messi looking on again while he nurses a right foot injury, had beaten El Salvador 2-0 in Washington on Saturday."
      ],
      "text/plain": [
       "<IPython.core.display.Markdown object>"
      ]
     },
     "metadata": {},
     "output_type": "display_data"
    },
    {
     "data": {
      "text/markdown": [
       "- **source** _[21]_: Mexico, who beat Ecuador on Friday, also had their second consecutive win by beating Paraguay with a goal from Eduardo Herrera in the third minute at the Arrowhead in Kansas City."
      ],
      "text/plain": [
       "<IPython.core.display.Markdown object>"
      ]
     },
     "metadata": {},
     "output_type": "display_data"
    },
    {
     "data": {
      "text/markdown": [
       "---\n",
       "## pg"
      ],
      "text/plain": [
       "<IPython.core.display.Markdown object>"
      ]
     },
     "metadata": {},
     "output_type": "display_data"
    },
    {
     "data": {
      "text/markdown": [
       "### unfaithful"
      ],
      "text/plain": [
       "<IPython.core.display.Markdown object>"
      ]
     },
     "metadata": {},
     "output_type": "display_data"
    },
    {
     "data": {
      "text/markdown": [
       "**zarif says iran has made significant progress over the last few days.**"
      ],
      "text/plain": [
       "<IPython.core.display.Markdown object>"
      ]
     },
     "metadata": {},
     "output_type": "display_data"
    },
    {
     "data": {
      "text/markdown": [
       "- **source** _[9]_: &quot;We have made significant progress over the last few days, but it has been slow going,&quot; British Foreign Secretary Philip Hammond told reporters Wednesday."
      ],
      "text/plain": [
       "<IPython.core.display.Markdown object>"
      ]
     },
     "metadata": {},
     "output_type": "display_data"
    },
    {
     "data": {
      "text/markdown": [
       "- **source** _[30]_: According to an IRNA report, Zarif said only that he hopes a framework agreement will be drafted Wednesday."
      ],
      "text/plain": [
       "<IPython.core.display.Markdown object>"
      ]
     },
     "metadata": {},
     "output_type": "display_data"
    },
    {
     "data": {
      "text/markdown": [
       "**radamel falcao has been in good goalscoring form for manchester united.**"
      ],
      "text/plain": [
       "<IPython.core.display.Markdown object>"
      ]
     },
     "metadata": {},
     "output_type": "display_data"
    },
    {
     "data": {
      "text/markdown": [
       "- **source** _[4]_: River Plate are keen to sign former forward Radamel Falcao who has struggled on loan at Manchester United."
      ],
      "text/plain": [
       "<IPython.core.display.Markdown object>"
      ]
     },
     "metadata": {},
     "output_type": "display_data"
    },
    {
     "data": {
      "text/markdown": [
       "- **source** _[6]_: However, Falcao has been in good goalscoring form for his countrythis week, finding the net three times in two games to equal Colombia&apos;s all-time goalscoring record with 24 goals."
      ],
      "text/plain": [
       "<IPython.core.display.Markdown object>"
      ]
     },
     "metadata": {},
     "output_type": "display_data"
    },
    {
     "data": {
      "text/markdown": [
       "**iran has shown &quot;its readiness to engage with dignity,&quot; the iranian minister says.**"
      ],
      "text/plain": [
       "<IPython.core.display.Markdown object>"
      ]
     },
     "metadata": {},
     "output_type": "display_data"
    },
    {
     "data": {
      "text/markdown": [
       "- **source** _[13]_: Zarif told reporters that Iran has shown &quot;its readiness to engage with dignity, and it&apos;s time for our negotiating partners to seize the moment and use this opportunity, which may not be repeated.&quot;"
      ],
      "text/plain": [
       "<IPython.core.display.Markdown object>"
      ]
     },
     "metadata": {},
     "output_type": "display_data"
    },
    {
     "data": {
      "text/markdown": [
       "- **source** _[15]_: They are mutually exclusive,&quot; the Iranian minister said."
      ],
      "text/plain": [
       "<IPython.core.display.Markdown object>"
      ]
     },
     "metadata": {},
     "output_type": "display_data"
    },
    {
     "data": {
      "text/markdown": [
       "### ungrammatical"
      ],
      "text/plain": [
       "<IPython.core.display.Markdown object>"
      ]
     },
     "metadata": {},
     "output_type": "display_data"
    },
    {
     "data": {
      "text/markdown": [
       "**but it was enough to defeat west ham in a frenetic match and breathe life back into the 86th minute of saturday&apos;s match it was by no means his most spectacular, a mere flick from six yards out enough to take the ball past adrian.**"
      ],
      "text/plain": [
       "<IPython.core.display.Markdown object>"
      ]
     },
     "metadata": {},
     "output_type": "display_data"
    },
    {
     "data": {
      "text/markdown": [
       "- **source** _[1]_: Coming in the 86th minute of Saturday&apos;s match it was by no means his most spectacular, a mere flick from six yards out enough to take the ball past Adrian after a scuffed Jamie Vardy shot."
      ],
      "text/plain": [
       "<IPython.core.display.Markdown object>"
      ]
     },
     "metadata": {},
     "output_type": "display_data"
    },
    {
     "data": {
      "text/markdown": [
       "- **source** _[2]_: But it was enough to defeat West Ham in a frenetic match and breathe life back into the side he has spent his whole career playing for."
      ],
      "text/plain": [
       "<IPython.core.display.Markdown object>"
      ]
     },
     "metadata": {},
     "output_type": "display_data"
    },
    {
     "data": {
      "text/markdown": [
       "**but it was enough to defeat west ham in a frenetic match and breathe life back into the 86th minute of saturday&apos;s match it was by no means his most spectacular, a mere flick from six yards out enough to take the ball past adrian.**"
      ],
      "text/plain": [
       "<IPython.core.display.Markdown object>"
      ]
     },
     "metadata": {},
     "output_type": "display_data"
    },
    {
     "data": {
      "text/markdown": [
       "- **source** _[1]_: Coming in the 86th minute of Saturday&apos;s match it was by no means his most spectacular, a mere flick from six yards out enough to take the ball past Adrian after a scuffed Jamie Vardy shot."
      ],
      "text/plain": [
       "<IPython.core.display.Markdown object>"
      ]
     },
     "metadata": {},
     "output_type": "display_data"
    },
    {
     "data": {
      "text/markdown": [
       "- **source** _[2]_: But it was enough to defeat West Ham in a frenetic match and breathe life back into the side he has spent his whole career playing for."
      ],
      "text/plain": [
       "<IPython.core.display.Markdown object>"
      ]
     },
     "metadata": {},
     "output_type": "display_data"
    },
    {
     "data": {
      "text/markdown": [
       "**christopher and fay purdham grew up together as boys before losing touch as teenagers.**"
      ],
      "text/plain": [
       "<IPython.core.display.Markdown object>"
      ]
     },
     "metadata": {},
     "output_type": "display_data"
    },
    {
     "data": {
      "text/markdown": [
       "- **source** _[1]_: Christopher Dodd, 24, and Fay Purdham, 27, are now a couple, with the latter transitioning to become a woman at the age of 23."
      ],
      "text/plain": [
       "<IPython.core.display.Markdown object>"
      ]
     },
     "metadata": {},
     "output_type": "display_data"
    },
    {
     "data": {
      "text/markdown": [
       "- **source** _[2]_: The pair, who now live in South Bank, Middlesbrough, grew up together as boys before losing touch as teenagers."
      ],
      "text/plain": [
       "<IPython.core.display.Markdown object>"
      ]
     },
     "metadata": {},
     "output_type": "display_data"
    },
    {
     "data": {
      "text/markdown": [
       "### uncoverage"
      ],
      "text/plain": [
       "<IPython.core.display.Markdown object>"
      ]
     },
     "metadata": {},
     "output_type": "display_data"
    },
    {
     "data": {
      "text/markdown": [
       "**his brother anthony scott said thursday it could have been related to &quot;child support and a fear of maybe going back to (jail)&quot;.**"
      ],
      "text/plain": [
       "<IPython.core.display.Markdown object>"
      ]
     },
     "metadata": {},
     "output_type": "display_data"
    },
    {
     "data": {
      "text/markdown": [
       "- **source** _[7]_: Justin Bamberg, a lawyer for Scott&apos;s family, speculated Thursday it could have been related to &quot;child support and a fear of maybe going back to (jail).&quot;"
      ],
      "text/plain": [
       "<IPython.core.display.Markdown object>"
      ]
     },
     "metadata": {},
     "output_type": "display_data"
    },
    {
     "data": {
      "text/markdown": [
       "- **source** _[21]_: &quot;It was a great celebration,&quot; Anthony Scott said."
      ],
      "text/plain": [
       "<IPython.core.display.Markdown object>"
      ]
     },
     "metadata": {},
     "output_type": "display_data"
    },
    {
     "data": {
      "text/markdown": [
       "**africans who are coming into london are now welcoming a new wave of african investors.**"
      ],
      "text/plain": [
       "<IPython.core.display.Markdown object>"
      ]
     },
     "metadata": {},
     "output_type": "display_data"
    },
    {
     "data": {
      "text/markdown": [
       "- **source** _[2]_: Mayfair, Kensington and Chelsea have long been the stomping ground of the elite -- and are now welcoming a new wave of African investors."
      ],
      "text/plain": [
       "<IPython.core.display.Markdown object>"
      ]
     },
     "metadata": {},
     "output_type": "display_data"
    },
    {
     "data": {
      "text/markdown": [
       "- **source** _[3]_: &quot;The Africans who are coming into London now are Africans who themselves have worked for their money,&quot; explains Bimpe Nkontchou, a British-Nigerian wealth manager based in London."
      ],
      "text/plain": [
       "<IPython.core.display.Markdown object>"
      ]
     },
     "metadata": {},
     "output_type": "display_data"
    },
    {
     "data": {
      "text/markdown": [
       "**charlie sumner, 20, faces a three-year football ban after running topless on to the pitch and performing a series of somersaults during the royals&apos; fa cup 3-0 quarter-final replay win over bradford city last month.**"
      ],
      "text/plain": [
       "<IPython.core.display.Markdown object>"
      ]
     },
     "metadata": {},
     "output_type": "display_data"
    },
    {
     "data": {
      "text/markdown": [
       "- **source** _[0]_: A Reading fan is facing a three-year ban after running topless on to the pitch and performing a series of somersaults during his first-ever game at the Madejski Stadium."
      ],
      "text/plain": [
       "<IPython.core.display.Markdown object>"
      ]
     },
     "metadata": {},
     "output_type": "display_data"
    },
    {
     "data": {
      "text/markdown": [
       "- **source** _[1]_: Charlie Sumner, 20, staged a one-man pitch invasion during the Royals&apos; FA Cup 3-0 quarter-final replay win over Bradford City last month."
      ],
      "text/plain": [
       "<IPython.core.display.Markdown object>"
      ]
     },
     "metadata": {},
     "output_type": "display_data"
    },
    {
     "data": {
      "text/markdown": [
       "---\n",
       "## novel"
      ],
      "text/plain": [
       "<IPython.core.display.Markdown object>"
      ]
     },
     "metadata": {},
     "output_type": "display_data"
    },
    {
     "data": {
      "text/markdown": [
       "### unfaithful"
      ],
      "text/plain": [
       "<IPython.core.display.Markdown object>"
      ]
     },
     "metadata": {},
     "output_type": "display_data"
    },
    {
     "data": {
      "text/markdown": [
       "**she is now planning their wedding in south bank, middlesbrough.**"
      ],
      "text/plain": [
       "<IPython.core.display.Markdown object>"
      ]
     },
     "metadata": {},
     "output_type": "display_data"
    },
    {
     "data": {
      "text/markdown": [
       "- **source** _[7]_: They reunited at a party years later and are now planning their dream wedding."
      ],
      "text/plain": [
       "<IPython.core.display.Markdown object>"
      ]
     },
     "metadata": {},
     "output_type": "display_data"
    },
    {
     "data": {
      "text/markdown": [
       "- **source** _[44]_: The couple live together in South Bank, Middlesbrough."
      ],
      "text/plain": [
       "<IPython.core.display.Markdown object>"
      ]
     },
     "metadata": {},
     "output_type": "display_data"
    },
    {
     "data": {
      "text/markdown": [
       "**british foreign secretary philip hammond says the deal will be a final deal.**"
      ],
      "text/plain": [
       "<IPython.core.display.Markdown object>"
      ]
     },
     "metadata": {},
     "output_type": "display_data"
    },
    {
     "data": {
      "text/markdown": [
       "- **source** _[8]_: But it does n&apos;t mean there will be a final deal."
      ],
      "text/plain": [
       "<IPython.core.display.Markdown object>"
      ]
     },
     "metadata": {},
     "output_type": "display_data"
    },
    {
     "data": {
      "text/markdown": [
       "- **source** _[9]_: &quot;We have made significant progress over the last few days, but it has been slow going,&quot; British Foreign Secretary Philip Hammond told reporters Wednesday."
      ],
      "text/plain": [
       "<IPython.core.display.Markdown object>"
      ]
     },
     "metadata": {},
     "output_type": "display_data"
    },
    {
     "data": {
      "text/markdown": [
       "**he was taken to a police van where he was detained muliaina&apos;s arrest was captured live on sky sports following the challenge cup quarter-final.**"
      ],
      "text/plain": [
       "<IPython.core.display.Markdown object>"
      ]
     },
     "metadata": {},
     "output_type": "display_data"
    },
    {
     "data": {
      "text/markdown": [
       "- **source** _[5]_: The former All Black was arrested at Kingsholm and then led to a police van where he was detained."
      ],
      "text/plain": [
       "<IPython.core.display.Markdown object>"
      ]
     },
     "metadata": {},
     "output_type": "display_data"
    },
    {
     "data": {
      "text/markdown": [
       "- **source** _[6]_: Muliaina&apos;s arrest was captured live on Sky Sports following the Challenge Cup quarter-final."
      ],
      "text/plain": [
       "<IPython.core.display.Markdown object>"
      ]
     },
     "metadata": {},
     "output_type": "display_data"
    },
    {
     "data": {
      "text/markdown": [
       "### ungrammatical"
      ],
      "text/plain": [
       "<IPython.core.display.Markdown object>"
      ]
     },
     "metadata": {},
     "output_type": "display_data"
    },
    {
     "data": {
      "text/markdown": [
       "**the pope francis is the of the killings &quot;a great evil&quot; and &quot;terrible persecution,&quot; he says.**"
      ],
      "text/plain": [
       "<IPython.core.display.Markdown object>"
      ]
     },
     "metadata": {},
     "output_type": "display_data"
    },
    {
     "data": {
      "text/markdown": [
       "- **source** _[15]_: Pope Emeritus Benedict XVI called the killings &quot;a great evil&quot; and &quot;terrible persecution&quot; in a speech 2006, but avoided labeling them genocide."
      ],
      "text/plain": [
       "<IPython.core.display.Markdown object>"
      ]
     },
     "metadata": {},
     "output_type": "display_data"
    },
    {
     "data": {
      "text/markdown": [
       "- **source** _[43]_: &quot;We can not keep silent about what we have seen and heard,&quot; Francis said."
      ],
      "text/plain": [
       "<IPython.core.display.Markdown object>"
      ]
     },
     "metadata": {},
     "output_type": "display_data"
    },
    {
     "data": {
      "text/markdown": [
       "**justin rose is one shot behind by andrew putnam going into third round.**"
      ],
      "text/plain": [
       "<IPython.core.display.Markdown object>"
      ]
     },
     "metadata": {},
     "output_type": "display_data"
    },
    {
     "data": {
      "text/markdown": [
       "- **source** _[1]_: The gifted leftie followed his opening 66 with a 67 to sit one shot behind leader Andrew Putnam going into the third round."
      ],
      "text/plain": [
       "<IPython.core.display.Markdown object>"
      ]
     },
     "metadata": {},
     "output_type": "display_data"
    },
    {
     "data": {
      "text/markdown": [
       "- **source** _[17]_: Justin Rose continued his upturn in form with an encouraging round of 68."
      ],
      "text/plain": [
       "<IPython.core.display.Markdown object>"
      ]
     },
     "metadata": {},
     "output_type": "display_data"
    },
    {
     "data": {
      "text/markdown": [
       "**alan hutton limped off in saturday&apos;s 3-1 defeat at old park rangers.**"
      ],
      "text/plain": [
       "<IPython.core.display.Markdown object>"
      ]
     },
     "metadata": {},
     "output_type": "display_data"
    },
    {
     "data": {
      "text/markdown": [
       "- **source** _[5]_: Alan Hutton limped off in Saturday&apos;s 3-1 defeat at Manchester United with an ankle problem and has been ruled out of Tuesday&apos;s game along with Scott Sinclair and Ashley Westwood."
      ],
      "text/plain": [
       "<IPython.core.display.Markdown object>"
      ]
     },
     "metadata": {},
     "output_type": "display_data"
    },
    {
     "data": {
      "text/markdown": [
       "- **source** _[28]_: The last season that Queens Park Rangers won both home and away in the league against Aston Villa was back in 1986/87."
      ],
      "text/plain": [
       "<IPython.core.display.Markdown object>"
      ]
     },
     "metadata": {},
     "output_type": "display_data"
    },
    {
     "data": {
      "text/markdown": [
       "### uncoverage"
      ],
      "text/plain": [
       "<IPython.core.display.Markdown object>"
      ]
     },
     "metadata": {},
     "output_type": "display_data"
    },
    {
     "data": {
      "text/markdown": [
       "**justin rose is one shot behind by andrew putnam going into third round.**"
      ],
      "text/plain": [
       "<IPython.core.display.Markdown object>"
      ]
     },
     "metadata": {},
     "output_type": "display_data"
    },
    {
     "data": {
      "text/markdown": [
       "- **source** _[1]_: The gifted leftie followed his opening 66 with a 67 to sit one shot behind leader Andrew Putnam going into the third round."
      ],
      "text/plain": [
       "<IPython.core.display.Markdown object>"
      ]
     },
     "metadata": {},
     "output_type": "display_data"
    },
    {
     "data": {
      "text/markdown": [
       "- **source** _[17]_: Justin Rose continued his upturn in form with an encouraging round of 68."
      ],
      "text/plain": [
       "<IPython.core.display.Markdown object>"
      ]
     },
     "metadata": {},
     "output_type": "display_data"
    },
    {
     "data": {
      "text/markdown": [
       "**harry kane scored his first goal of the season against lithuania on march 27.**"
      ],
      "text/plain": [
       "<IPython.core.display.Markdown object>"
      ]
     },
     "metadata": {},
     "output_type": "display_data"
    },
    {
     "data": {
      "text/markdown": [
       "- **source** _[0]_: Harry Kane hailed an unforgettable week after taking his England bow and becoming the youngest captain in the Premier League this season - but he will want to erase the memory of Tottenham&apos;s goalless draw at Burnley."
      ],
      "text/plain": [
       "<IPython.core.display.Markdown object>"
      ]
     },
     "metadata": {},
     "output_type": "display_data"
    },
    {
     "data": {
      "text/markdown": [
       "- **source** _[4]_: That came after he scored within seconds of his England debut against Lithuania on March 27 at Wembley."
      ],
      "text/plain": [
       "<IPython.core.display.Markdown object>"
      ]
     },
     "metadata": {},
     "output_type": "display_data"
    },
    {
     "data": {
      "text/markdown": [
       "**england paceman stuart broad (nought) and gary trott (17) failed to make it to the attack.**"
      ],
      "text/plain": [
       "<IPython.core.display.Markdown object>"
      ]
     },
     "metadata": {},
     "output_type": "display_data"
    },
    {
     "data": {
      "text/markdown": [
       "- **source** _[2]_: Jonathan Trott (nought) and Gary Ballance (17) largely failed to do so, but Bairstow made 98 and Joe Root ended the day 87 not out in a score of 303 for nine."
      ],
      "text/plain": [
       "<IPython.core.display.Markdown object>"
      ]
     },
     "metadata": {},
     "output_type": "display_data"
    },
    {
     "data": {
      "text/markdown": [
       "- **source** _[3]_: England paceman Stuart Broad (left) bowls at Jonny Bairstow on Wednesday."
      ],
      "text/plain": [
       "<IPython.core.display.Markdown object>"
      ]
     },
     "metadata": {},
     "output_type": "display_data"
    },
    {
     "data": {
      "text/markdown": [
       "---\n",
       "## abs-rl-rerank"
      ],
      "text/plain": [
       "<IPython.core.display.Markdown object>"
      ]
     },
     "metadata": {},
     "output_type": "display_data"
    },
    {
     "data": {
      "text/markdown": [
       "### unfaithful"
      ],
      "text/plain": [
       "<IPython.core.display.Markdown object>"
      ]
     },
     "metadata": {},
     "output_type": "display_data"
    },
    {
     "data": {
      "text/markdown": [
       "**crystal palace beat manchester city 1-0 in the premier league on monday.**"
      ],
      "text/plain": [
       "<IPython.core.display.Markdown object>"
      ]
     },
     "metadata": {},
     "output_type": "display_data"
    },
    {
     "data": {
      "text/markdown": [
       "- **source** _[3]_: Glenn Murray jumps for joy after putting Crystal Palace 1-0 up against Manchester City on Monday night."
      ],
      "text/plain": [
       "<IPython.core.display.Markdown object>"
      ]
     },
     "metadata": {},
     "output_type": "display_data"
    },
    {
     "data": {
      "text/markdown": [
       "- **source** _[25]_: His faith has been rewarded with a rich vein of goalscoring form that gives Murray the best goals-per-minute ratio of anyone in the Premier League."
      ],
      "text/plain": [
       "<IPython.core.display.Markdown object>"
      ]
     },
     "metadata": {},
     "output_type": "display_data"
    },
    {
     "data": {
      "text/markdown": [
       "**if dr. oz was ever going to go down, he was ostensibly invited to speak.**"
      ],
      "text/plain": [
       "<IPython.core.display.Markdown object>"
      ]
     },
     "metadata": {},
     "output_type": "display_data"
    },
    {
     "data": {
      "text/markdown": [
       "- **source** _[5]_: If Dr. Oz was ever going to go down, surely his ship would&apos;ve sunk last summer in the wake of his disastrous testimony before a Senate subcommittee."
      ],
      "text/plain": [
       "<IPython.core.display.Markdown object>"
      ]
     },
     "metadata": {},
     "output_type": "display_data"
    },
    {
     "data": {
      "text/markdown": [
       "- **source** _[6]_: He was ostensibly invited to speak as an expert witness about bogus weight loss products,."
      ],
      "text/plain": [
       "<IPython.core.display.Markdown object>"
      ]
     },
     "metadata": {},
     "output_type": "display_data"
    },
    {
     "data": {
      "text/markdown": [
       "**if dr. oz was ever going to go down, he was ostensibly invited to speak.**"
      ],
      "text/plain": [
       "<IPython.core.display.Markdown object>"
      ]
     },
     "metadata": {},
     "output_type": "display_data"
    },
    {
     "data": {
      "text/markdown": [
       "- **source** _[5]_: If Dr. Oz was ever going to go down, surely his ship would&apos;ve sunk last summer in the wake of his disastrous testimony before a Senate subcommittee."
      ],
      "text/plain": [
       "<IPython.core.display.Markdown object>"
      ]
     },
     "metadata": {},
     "output_type": "display_data"
    },
    {
     "data": {
      "text/markdown": [
       "- **source** _[6]_: He was ostensibly invited to speak as an expert witness about bogus weight loss products,."
      ],
      "text/plain": [
       "<IPython.core.display.Markdown object>"
      ]
     },
     "metadata": {},
     "output_type": "display_data"
    },
    {
     "data": {
      "text/markdown": [
       "### ungrammatical"
      ],
      "text/plain": [
       "<IPython.core.display.Markdown object>"
      ]
     },
     "metadata": {},
     "output_type": "display_data"
    },
    {
     "data": {
      "text/markdown": [
       "**steve woolfenden thought he was still holding the handles of his son&apos;s stroller.**"
      ],
      "text/plain": [
       "<IPython.core.display.Markdown object>"
      ]
     },
     "metadata": {},
     "output_type": "display_data"
    },
    {
     "data": {
      "text/markdown": [
       "- **source** _[0]_: Boston (CNN) When the bomb went off, Steve Woolfenden thought he was still standing."
      ],
      "text/plain": [
       "<IPython.core.display.Markdown object>"
      ]
     },
     "metadata": {},
     "output_type": "display_data"
    },
    {
     "data": {
      "text/markdown": [
       "- **source** _[1]_: That was because, as he lay on the ground, he was still holding the handles of his son&apos;s stroller."
      ],
      "text/plain": [
       "<IPython.core.display.Markdown object>"
      ]
     },
     "metadata": {},
     "output_type": "display_data"
    },
    {
     "data": {
      "text/markdown": [
       "### uncoverage"
      ],
      "text/plain": [
       "<IPython.core.display.Markdown object>"
      ]
     },
     "metadata": {},
     "output_type": "display_data"
    },
    {
     "data": {
      "text/markdown": [
       "---\n",
       "## reference"
      ],
      "text/plain": [
       "<IPython.core.display.Markdown object>"
      ]
     },
     "metadata": {},
     "output_type": "display_data"
    },
    {
     "data": {
      "text/markdown": [
       "### unfaithful"
      ],
      "text/plain": [
       "<IPython.core.display.Markdown object>"
      ]
     },
     "metadata": {},
     "output_type": "display_data"
    },
    {
     "data": {
      "text/markdown": [
       "**previous attempt to change name by owner assem allam angered fans.**"
      ],
      "text/plain": [
       "<IPython.core.display.Markdown object>"
      ]
     },
     "metadata": {},
     "output_type": "display_data"
    },
    {
     "data": {
      "text/markdown": [
       "- **source** _[1]_: The move angered fans who believed they had won the battle to keep their current when the FA council voted against it by 47 votes to 27."
      ],
      "text/plain": [
       "<IPython.core.display.Markdown object>"
      ]
     },
     "metadata": {},
     "output_type": "display_data"
    },
    {
     "data": {
      "text/markdown": [
       "- **source** _[5]_: An arbitration panel has ruled that owner Assem Allam can make another application to change the name."
      ],
      "text/plain": [
       "<IPython.core.display.Markdown object>"
      ]
     },
     "metadata": {},
     "output_type": "display_data"
    },
    {
     "data": {
      "text/markdown": [
       "**he entered the qualifying for the houston open and finished tied first.**"
      ],
      "text/plain": [
       "<IPython.core.display.Markdown object>"
      ]
     },
     "metadata": {},
     "output_type": "display_data"
    },
    {
     "data": {
      "text/markdown": [
       "- **source** _[1]_: Surrey-born Kelvin Day has only played a handful of events on the subsidiary circuit, the Web.com Tour but decided to enter qualifying for the Houston event."
      ],
      "text/plain": [
       "<IPython.core.display.Markdown object>"
      ]
     },
     "metadata": {},
     "output_type": "display_data"
    },
    {
     "data": {
      "text/markdown": [
       "- **source** _[3]_: With two excellent rounds of 64, the 27-year-old finished tied first to earn his place -- and how he has taken advantage."
      ],
      "text/plain": [
       "<IPython.core.display.Markdown object>"
      ]
     },
     "metadata": {},
     "output_type": "display_data"
    },
    {
     "data": {
      "text/markdown": [
       "**video of toya graham going to a protest and forcefully removing her son went viral, drew a lot of praise.**"
      ],
      "text/plain": [
       "<IPython.core.display.Markdown object>"
      ]
     },
     "metadata": {},
     "output_type": "display_data"
    },
    {
     "data": {
      "text/markdown": [
       "- **source** _[3]_: The video of Graham yanking her son, Michael Singleton, and slapping him with a right hand as CNN affiliate WMAR recorded has led to the Internet calling Graham #motheroftheyear."
      ],
      "text/plain": [
       "<IPython.core.display.Markdown object>"
      ]
     },
     "metadata": {},
     "output_type": "display_data"
    },
    {
     "data": {
      "text/markdown": [
       "- **source** _[4]_: Many people have praised the unemployed, single mother of six for going to the Mondawmin Mall and getting her son away from the escalating violence."
      ],
      "text/plain": [
       "<IPython.core.display.Markdown object>"
      ]
     },
     "metadata": {},
     "output_type": "display_data"
    },
    {
     "data": {
      "text/markdown": [
       "### ungrammatical"
      ],
      "text/plain": [
       "<IPython.core.display.Markdown object>"
      ]
     },
     "metadata": {},
     "output_type": "display_data"
    },
    {
     "data": {
      "text/markdown": [
       "**phil mickelson holds a one shot lead going into day three of houston open.**"
      ],
      "text/plain": [
       "<IPython.core.display.Markdown object>"
      ]
     },
     "metadata": {},
     "output_type": "display_data"
    },
    {
     "data": {
      "text/markdown": [
       "- **source** _[4]_: Phil Mickelson capped his resurgence in form at the Houston Open with rounds of 66 or 67."
      ],
      "text/plain": [
       "<IPython.core.display.Markdown object>"
      ]
     },
     "metadata": {},
     "output_type": "display_data"
    },
    {
     "data": {
      "text/markdown": [
       "- **source** _[5]_: Mickelson is one shot behind going into the third round with The Masters a week away."
      ],
      "text/plain": [
       "<IPython.core.display.Markdown object>"
      ]
     },
     "metadata": {},
     "output_type": "display_data"
    },
    {
     "data": {
      "text/markdown": [
       "**two sides clash at loftus road on tuesday at 7.45 pm.**"
      ],
      "text/plain": [
       "<IPython.core.display.Markdown object>"
      ]
     },
     "metadata": {},
     "output_type": "display_data"
    },
    {
     "data": {
      "text/markdown": [
       "- **source** _[15]_: Kick-off: Tuesday, 7.45 pm."
      ],
      "text/plain": [
       "<IPython.core.display.Markdown object>"
      ]
     },
     "metadata": {},
     "output_type": "display_data"
    },
    {
     "data": {
      "text/markdown": [
       "- **source** _[29]_: Charlie Austin celebrates scoring his and QPR&apos;s second goal in their 2-0 win over Aston Villa at Loftus Road."
      ],
      "text/plain": [
       "<IPython.core.display.Markdown object>"
      ]
     },
     "metadata": {},
     "output_type": "display_data"
    },
    {
     "data": {
      "text/markdown": [
       "**gerardo martino&apos;s team beat their south american rivals in new jersey.**"
      ],
      "text/plain": [
       "<IPython.core.display.Markdown object>"
      ]
     },
     "metadata": {},
     "output_type": "display_data"
    },
    {
     "data": {
      "text/markdown": [
       "- **source** _[1]_: Gerardo Martino&apos;s Argentina, with captain Messi looking on again while he nurses a right foot injury, had beaten El Salvador 2-0 in Washington on Saturday."
      ],
      "text/plain": [
       "<IPython.core.display.Markdown object>"
      ]
     },
     "metadata": {},
     "output_type": "display_data"
    },
    {
     "data": {
      "text/markdown": [
       "- **source** _[25]_: Javier Pastore is challenged by Osbaldo Lastra during the friendly international in New Jersey."
      ],
      "text/plain": [
       "<IPython.core.display.Markdown object>"
      ]
     },
     "metadata": {},
     "output_type": "display_data"
    },
    {
     "data": {
      "text/markdown": [
       "### uncoverage"
      ],
      "text/plain": [
       "<IPython.core.display.Markdown object>"
      ]
     },
     "metadata": {},
     "output_type": "display_data"
    },
    {
     "data": {
      "text/markdown": [
       "**england drew 1-1 against italy in friendly at juventus stadium on tuesday.**"
      ],
      "text/plain": [
       "<IPython.core.display.Markdown object>"
      ]
     },
     "metadata": {},
     "output_type": "display_data"
    },
    {
     "data": {
      "text/markdown": [
       "- **source** _[1]_: Nine months on from meeting at the World Cup, the Three Lions faced the Azzurri once more in a glamour friendly at the Juventus Stadium."
      ],
      "text/plain": [
       "<IPython.core.display.Markdown object>"
      ]
     },
     "metadata": {},
     "output_type": "display_data"
    },
    {
     "data": {
      "text/markdown": [
       "- **source** _[3]_: England captain Wayne Rooney issues instructions during the 1-1 draw against Italy on Tuesday night."
      ],
      "text/plain": [
       "<IPython.core.display.Markdown object>"
      ]
     },
     "metadata": {},
     "output_type": "display_data"
    },
    {
     "data": {
      "text/markdown": [
       "**gerardo martino&apos;s team beat their south american rivals in new jersey.**"
      ],
      "text/plain": [
       "<IPython.core.display.Markdown object>"
      ]
     },
     "metadata": {},
     "output_type": "display_data"
    },
    {
     "data": {
      "text/markdown": [
       "- **source** _[1]_: Gerardo Martino&apos;s Argentina, with captain Messi looking on again while he nurses a right foot injury, had beaten El Salvador 2-0 in Washington on Saturday."
      ],
      "text/plain": [
       "<IPython.core.display.Markdown object>"
      ]
     },
     "metadata": {},
     "output_type": "display_data"
    },
    {
     "data": {
      "text/markdown": [
       "- **source** _[25]_: Javier Pastore is challenged by Osbaldo Lastra during the friendly international in New Jersey."
      ],
      "text/plain": [
       "<IPython.core.display.Markdown object>"
      ]
     },
     "metadata": {},
     "output_type": "display_data"
    },
    {
     "data": {
      "text/markdown": [
       "**manchester united beat aston villa to secure an eight-point cushion.**"
      ],
      "text/plain": [
       "<IPython.core.display.Markdown object>"
      ]
     },
     "metadata": {},
     "output_type": "display_data"
    },
    {
     "data": {
      "text/markdown": [
       "- **source** _[0]_: Manchester United boss Louis van Gaal has warned his players that Champions League qualification is still not assured despite holding an eight-point gap over Liverpool after Saturday&apos;s results."
      ],
      "text/plain": [
       "<IPython.core.display.Markdown object>"
      ]
     },
     "metadata": {},
     "output_type": "display_data"
    },
    {
     "data": {
      "text/markdown": [
       "- **source** _[21]_: Rooney battles with Aston Villa ace Jores Okore during Saturday&apos;s victory at Old Trafford."
      ],
      "text/plain": [
       "<IPython.core.display.Markdown object>"
      ]
     },
     "metadata": {},
     "output_type": "display_data"
    }
   ],
   "source": [
    "# TODO: rework to be able to select out exact examples\n",
    "from IPython.display import HTML\n",
    "\n",
    "np.random.seed(42)\n",
    "\n",
    "sha_selec = [f\"sha_{idx}\" for idx in range(n_sys)]\n",
    "inp_selec = [f\"src_{idx}\" for idx in range(n_sys)]\n",
    "\n",
    "sys_srcs = processed[inp_selec].values\n",
    "sys_summ = processed[sum_selec].values\n",
    "articles = processed[\"Input.article_content\"].values\n",
    "\n",
    "def sample_un_exs(sys: str, n: int = 3):\n",
    "    display(Markdown(f\"---\\n## {sys}\"))\n",
    "    for name, uncat in zip([\"unfaithful\", \"ungrammatical\", \"uncoverage\"],\n",
    "                           [mask_unfaith, mask_ungramm, mask_uncover]):\n",
    "        display(Markdown(f\"### {name}\"))\n",
    "        \n",
    "        mask = (processed[sha_selec] * (uncat > 0) * masks[sys]).values\n",
    "        mask = mask.flatten()\n",
    "        mask_range = np.arange(0, len(mask))\n",
    "        sha256s = []\n",
    "        # really terrible implementation, but not sure how else to\n",
    "        #   guarantee it can be reversed.\n",
    "        track, catch = 0, n_sys * 0.5 * len(processed)\n",
    "        for _ in range(n):\n",
    "            while True:\n",
    "                choice = np.random.choice(mask_range, size=1)\n",
    "                if mask[choice] != \"\" and choice not in sha256s:\n",
    "                    sha256s.append(choice)\n",
    "                    break\n",
    "                track += 1\n",
    "                if track > catch:\n",
    "                    break\n",
    "            if track > catch:\n",
    "                break\n",
    "\n",
    "        for sha_idx in sha256s:\n",
    "            row, col = sha_idx // n_sys, sha_idx % n_sys\n",
    "            article = articles[row][0].split(\"||\")\n",
    "            lookups = sorted(list(map(int, sys_srcs[row, col][0].split(\",\"))))\n",
    "            display(Markdown(f\"**{sys_summ[row, col][0]}**\"))\n",
    "            for look in lookups:\n",
    "                display(Markdown(f\"- **source** _[{look}]_: {article[look]}\"))\n",
    "\n",
    "for sys in systems:\n",
    "    sample_un_exs(sys)"
   ]
  },
  {
   "cell_type": "markdown",
   "metadata": {},
   "source": [
    "---\n",
    "## Average System Summary Length"
   ]
  },
  {
   "cell_type": "code",
   "execution_count": 14,
   "metadata": {
    "scrolled": false
   },
   "outputs": [
    {
     "data": {
      "text/html": [
       "<div>\n",
       "<style scoped>\n",
       "    .dataframe tbody tr th:only-of-type {\n",
       "        vertical-align: middle;\n",
       "    }\n",
       "\n",
       "    .dataframe tbody tr th {\n",
       "        vertical-align: top;\n",
       "    }\n",
       "\n",
       "    .dataframe thead th {\n",
       "        text-align: right;\n",
       "    }\n",
       "</style>\n",
       "<table border=\"1\" class=\"dataframe\">\n",
       "  <thead>\n",
       "    <tr style=\"text-align: right;\">\n",
       "      <th></th>\n",
       "      <th>avg_len</th>\n",
       "    </tr>\n",
       "    <tr>\n",
       "      <th>sys</th>\n",
       "      <th></th>\n",
       "    </tr>\n",
       "  </thead>\n",
       "  <tbody>\n",
       "    <tr>\n",
       "      <th>bottom-up</th>\n",
       "      <td>74.9315</td>\n",
       "    </tr>\n",
       "    <tr>\n",
       "      <th>dca</th>\n",
       "      <td>81.5154</td>\n",
       "    </tr>\n",
       "    <tr>\n",
       "      <th>pg</th>\n",
       "      <td>110.595</td>\n",
       "    </tr>\n",
       "    <tr>\n",
       "      <th>novel</th>\n",
       "      <td>86.1404</td>\n",
       "    </tr>\n",
       "    <tr>\n",
       "      <th>abs-rl-rerank</th>\n",
       "      <td>73.8125</td>\n",
       "    </tr>\n",
       "    <tr>\n",
       "      <th>reference</th>\n",
       "      <td>76.14</td>\n",
       "    </tr>\n",
       "  </tbody>\n",
       "</table>\n",
       "</div>"
      ],
      "text/plain": [
       "               avg_len\n",
       "sys                   \n",
       "bottom-up      74.9315\n",
       "dca            81.5154\n",
       "pg             110.595\n",
       "novel          86.1404\n",
       "abs-rl-rerank  73.8125\n",
       "reference        76.14"
      ]
     },
     "execution_count": 14,
     "metadata": {},
     "output_type": "execute_result"
    }
   ],
   "source": [
    "sys_summ_len = pd.DataFrame(columns=[\"sys\", \"avg_len\"])\n",
    "sys_summ_len[\"sys\"] = systems\n",
    "sys_summ_len.set_index([\"sys\"], inplace=True)\n",
    "\n",
    "for sys in systems:\n",
    "    mask = (masks[sys] * (processed[sum_selec])).values\n",
    "    mask = np.unique(mask.flatten())[1:]\n",
    "    lens = sum([len(x) for x in mask])\n",
    "    sys_summ_len.loc[sys, \"avg_len\"] = lens / mask.shape[0]\n",
    "    \n",
    "sys_summ_len"
   ]
  },
  {
   "cell_type": "markdown",
   "metadata": {},
   "source": [
    "---\n",
    "# Fleiss' Kappa"
   ]
  },
  {
   "cell_type": "code",
   "execution_count": 15,
   "metadata": {
    "scrolled": false
   },
   "outputs": [],
   "source": [
    "from nltk.metrics.agreement import AnnotationTask\n",
    "\n",
    "def fleiss_kappa(col: list, name: str):\n",
    "    display(Markdown(f\"**{name}**\"))\n",
    "    annots = processed.reset_index()[[\"Answer.article_hash\", \"WorkerId\",] + col]\n",
    "    annots = pd.melt(annots, id_vars=[\"Answer.article_hash\", \"WorkerId\"],\n",
    "                     value_vars=col, value_name=\"label\", var_name=\"task\")\n",
    "\n",
    "    kappas = []\n",
    "    for article, group in annots.groupby(\"Answer.article_hash\"):\n",
    "        coder = list(group[\"WorkerId\"])\n",
    "        label = list(group[\"label\"])\n",
    "        item  = list(group[[\"Answer.article_hash\", \"task\"]].apply(lambda x: \"\".join(x), axis=1))\n",
    "\n",
    "        try:\n",
    "            fleiss = AnnotationTask([x for x in zip(coder, item, label)])\n",
    "            kappas.append(fleiss.multi_kappa())\n",
    "        except ZeroDivisionError:\n",
    "            print(article)\n",
    "            continue\n",
    "\n",
    "    kappas = np.array(kappas)\n",
    "    display(f\"max  : {kappas.max()}\")\n",
    "    display(f\"mean : {kappas.mean()}\")\n",
    "    display(f\"stdev: {kappas.std()}\")\n",
    "    display(f\"min  : {kappas.min()}\")\n",
    "    \n",
    "    f, axes = plt.subplots(nrows=1, ncols=2, figsize=(14, 5))\n",
    "    display(sns.distplot(kappas, ax=axes[0]))\n",
    "    display(sns.distplot(kappas, bins=20, kde=False, ax=axes[1]))\n",
    "    plt.show()"
   ]
  },
  {
   "cell_type": "code",
   "execution_count": 16,
   "metadata": {
    "scrolled": false
   },
   "outputs": [
    {
     "data": {
      "text/markdown": [
       "**Faithfulness**"
      ],
      "text/plain": [
       "<IPython.core.display.Markdown object>"
      ]
     },
     "metadata": {},
     "output_type": "display_data"
    },
    {
     "name": "stdout",
     "output_type": "stream",
     "text": [
      "99bfa29e7b1591fd3de14fbc3295800109623f9dc6abebd7f0cf3203cc61b044\n"
     ]
    },
    {
     "data": {
      "text/plain": [
       "'max  : 0.7272727272727274'"
      ]
     },
     "metadata": {},
     "output_type": "display_data"
    },
    {
     "data": {
      "text/plain": [
       "'mean : 0.10179360462124823'"
      ]
     },
     "metadata": {},
     "output_type": "display_data"
    },
    {
     "data": {
      "text/plain": [
       "'stdev: 0.19143578909321424'"
      ]
     },
     "metadata": {},
     "output_type": "display_data"
    },
    {
     "data": {
      "text/plain": [
       "'min  : -0.33333333333333337'"
      ]
     },
     "metadata": {},
     "output_type": "display_data"
    },
    {
     "data": {
      "text/plain": [
       "<matplotlib.axes._subplots.AxesSubplot at 0x12630a4a8>"
      ]
     },
     "metadata": {},
     "output_type": "display_data"
    },
    {
     "data": {
      "text/plain": [
       "<matplotlib.axes._subplots.AxesSubplot at 0x1287889e8>"
      ]
     },
     "metadata": {},
     "output_type": "display_data"
    },
    {
     "data": {
      "image/png": "[encoded data removed]",
      "text/plain": [
       "<Figure size 1008x360 with 2 Axes>"
      ]
     },
     "metadata": {},
     "output_type": "display_data"
    },
    {
     "data": {
      "text/markdown": [
       "**Grammaticality**"
      ],
      "text/plain": [
       "<IPython.core.display.Markdown object>"
      ]
     },
     "metadata": {},
     "output_type": "display_data"
    },
    {
     "name": "stdout",
     "output_type": "stream",
     "text": [
      "39bc958bd11a0bb2abff646b858b577ae8a33cbff471f0f78b6dad63b5889bfa\n",
      "4ee1a47c46b42bc23a5727804c7275b94421408f0aeb6ca1d18fdcbd302b3e20\n",
      "5df775673ca8c2a5a3392233a1a6007a7d08bfcc7bacfc4a61fffd52b86556fd\n",
      "79e5c3f681b4dd272f3467d86399dae17a57973b465e9b33e8e48a7734898b1e\n",
      "bbacac2968afef9583d767225d1faf928d1f10ecac8dad1a090c77db730d2e94\n"
     ]
    },
    {
     "data": {
      "text/plain": [
       "'max  : 0.7272727272727274'"
      ]
     },
     "metadata": {},
     "output_type": "display_data"
    },
    {
     "data": {
      "text/plain": [
       "'mean : 0.07499452092684854'"
      ]
     },
     "metadata": {},
     "output_type": "display_data"
    },
    {
     "data": {
      "text/plain": [
       "'stdev: 0.19228988061495628'"
      ]
     },
     "metadata": {},
     "output_type": "display_data"
    },
    {
     "data": {
      "text/plain": [
       "'min  : -0.30434782608695654'"
      ]
     },
     "metadata": {},
     "output_type": "display_data"
    },
    {
     "data": {
      "text/plain": [
       "<matplotlib.axes._subplots.AxesSubplot at 0x1262b06a0>"
      ]
     },
     "metadata": {},
     "output_type": "display_data"
    },
    {
     "data": {
      "text/plain": [
       "<matplotlib.axes._subplots.AxesSubplot at 0x1288a77f0>"
      ]
     },
     "metadata": {},
     "output_type": "display_data"
    },
    {
     "data": {
      "image/png": "[encoded data removed]",
      "text/plain": [
       "<Figure size 1008x360 with 2 Axes>"
      ]
     },
     "metadata": {},
     "output_type": "display_data"
    },
    {
     "data": {
      "text/markdown": [
       "**Merging**"
      ],
      "text/plain": [
       "<IPython.core.display.Markdown object>"
      ]
     },
     "metadata": {},
     "output_type": "display_data"
    },
    {
     "data": {
      "text/plain": [
       "'max  : 0.2758620689655171'"
      ]
     },
     "metadata": {},
     "output_type": "display_data"
    },
    {
     "data": {
      "text/plain": [
       "'mean : 0.02272205097445598'"
      ]
     },
     "metadata": {},
     "output_type": "display_data"
    },
    {
     "data": {
      "text/plain": [
       "'stdev: 0.095333752318243'"
      ]
     },
     "metadata": {},
     "output_type": "display_data"
    },
    {
     "data": {
      "text/plain": [
       "'min  : -0.1851851851851852'"
      ]
     },
     "metadata": {},
     "output_type": "display_data"
    },
    {
     "data": {
      "text/plain": [
       "<matplotlib.axes._subplots.AxesSubplot at 0x128a79160>"
      ]
     },
     "metadata": {},
     "output_type": "display_data"
    },
    {
     "data": {
      "text/plain": [
       "<matplotlib.axes._subplots.AxesSubplot at 0x128aa63c8>"
      ]
     },
     "metadata": {},
     "output_type": "display_data"
    },
    {
     "data": {
      "image/png": "[encoded data removed]",
      "text/plain": [
       "<Figure size 1008x360 with 2 Axes>"
      ]
     },
     "metadata": {},
     "output_type": "display_data"
    }
   ],
   "source": [
    "fleiss_kappa(fth_selec, \"Faithfulness\")\n",
    "fleiss_kappa(grm_selec, \"Grammaticality\")\n",
    "fleiss_kappa(mrg_selec, \"Merging\")"
   ]
  },
  {
   "cell_type": "code",
   "execution_count": null,
   "metadata": {},
   "outputs": [],
   "source": []
  }
 ],
 "metadata": {
  "kernelspec": {
   "display_name": "Python 3",
   "language": "python",
   "name": "python3"
  },
  "language_info": {
   "codemirror_mode": {
    "name": "ipython",
    "version": 3
   },
   "file_extension": ".py",
   "mimetype": "text/x-python",
   "name": "python",
   "nbconvert_exporter": "python",
   "pygments_lexer": "ipython3",
   "version": "3.6.7"
  }
 },
 "nbformat": 4,
 "nbformat_minor": 2
}
