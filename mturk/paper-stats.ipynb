{
 "cells": [
  {
   "cell_type": "markdown",
   "metadata": {},
   "source": [
    "# Stats for the paper\n",
    "\n",
    "```TODOs:```\n",
    "- [x] For each system: average faithful, average gramm, average coverage\n",
    "- [x] For each system: distribution over the merging categories (we’re mostly interested in the reference system)\n",
    "- [x] For each MERGE CATEGORY: average faithful, average gramm (over all systems except reference)\n",
    "  - Imbalanced concat: 90% faithful, 90% gramm\n",
    "  - Replacement: 60% faithful, 95% gramm\n",
    "  - Balanced concat: …\n",
    "  - Other: …\n",
    "- [x] Distribution over the merging categories (only on uncoverage summ sents -- consider a summ sent to be uncoverage if >= 51% of the responses were NO for coverage)\n",
    "- [x] For each system: 3 summ sents that are unfaithful, 3 summ sents that are ungramm, 3 summ sents that are uncoverage\n"
   ]
  },
  {
   "cell_type": "code",
   "execution_count": 1,
   "metadata": {
    "scrolled": false
   },
   "outputs": [
    {
     "data": {
      "text/html": [
       "<div>\n",
       "<style scoped>\n",
       "    .dataframe tbody tr th:only-of-type {\n",
       "        vertical-align: middle;\n",
       "    }\n",
       "\n",
       "    .dataframe tbody tr th {\n",
       "        vertical-align: top;\n",
       "    }\n",
       "\n",
       "    .dataframe thead th {\n",
       "        text-align: right;\n",
       "    }\n",
       "</style>\n",
       "<table border=\"1\" class=\"dataframe\">\n",
       "  <thead>\n",
       "    <tr style=\"text-align: right;\">\n",
       "      <th></th>\n",
       "      <th></th>\n",
       "      <th>n_bottom-up</th>\n",
       "      <th>n_reference</th>\n",
       "      <th>n_dca</th>\n",
       "      <th>n_pg</th>\n",
       "      <th>n_novel</th>\n",
       "      <th>n_abs-rl-rerank</th>\n",
       "      <th>sys_0</th>\n",
       "      <th>sys_1</th>\n",
       "      <th>sys_2</th>\n",
       "      <th>sys_3</th>\n",
       "      <th>...</th>\n",
       "      <th>summary_2</th>\n",
       "      <th>summary_3</th>\n",
       "      <th>summary_4</th>\n",
       "      <th>summary_5</th>\n",
       "      <th>sha_0</th>\n",
       "      <th>sha_1</th>\n",
       "      <th>sha_2</th>\n",
       "      <th>sha_3</th>\n",
       "      <th>sha_4</th>\n",
       "      <th>sha_5</th>\n",
       "    </tr>\n",
       "    <tr>\n",
       "      <th>Answer.article_hash</th>\n",
       "      <th>WorkerId</th>\n",
       "      <th></th>\n",
       "      <th></th>\n",
       "      <th></th>\n",
       "      <th></th>\n",
       "      <th></th>\n",
       "      <th></th>\n",
       "      <th></th>\n",
       "      <th></th>\n",
       "      <th></th>\n",
       "      <th></th>\n",
       "      <th></th>\n",
       "      <th></th>\n",
       "      <th></th>\n",
       "      <th></th>\n",
       "      <th></th>\n",
       "      <th></th>\n",
       "      <th></th>\n",
       "      <th></th>\n",
       "      <th></th>\n",
       "      <th></th>\n",
       "      <th></th>\n",
       "    </tr>\n",
       "  </thead>\n",
       "  <tbody>\n",
       "    <tr>\n",
       "      <th>ad7ae93a040c050c6264c5b1c55b6436503b34e406378689601c7dcc97f080e2</th>\n",
       "      <th>A1IZ4NX41GKU4X</th>\n",
       "      <td>0</td>\n",
       "      <td>1</td>\n",
       "      <td>3</td>\n",
       "      <td>1</td>\n",
       "      <td>1</td>\n",
       "      <td>0</td>\n",
       "      <td>dca</td>\n",
       "      <td>reference</td>\n",
       "      <td>pg</td>\n",
       "      <td>dca</td>\n",
       "      <td>...</td>\n",
       "      <td>guitar slinger jimi hendrix inflamed mainstrea...</td>\n",
       "      <td>the crowd at the american league game would be...</td>\n",
       "      <td>the american national anthem will be a nationa...</td>\n",
       "      <td>the late night of the gulf war in the san dieg...</td>\n",
       "      <td>919603c3c8e2217d9afe6e7a407d27d296363a71f451f1...</td>\n",
       "      <td>c6fa2649470d5bc264f3b9e5fc182f2918be95b1034d4a...</td>\n",
       "      <td>f0f10dd0a9be8230cd858590b3614a9717678b7e7b0b38...</td>\n",
       "      <td>a01be3c29e2edcc91106bed254a773e8bad56d3c790cb4...</td>\n",
       "      <td>3fa58b9761027bd14d20b5f2a88563b9dc07fe1c966b26...</td>\n",
       "      <td>98ad3008c98e52919d633781fc00ac0ac82946761b9985...</td>\n",
       "    </tr>\n",
       "  </tbody>\n",
       "</table>\n",
       "<p>1 rows × 48 columns</p>\n",
       "</div>"
      ],
      "text/plain": [
       "                                                                   n_bottom-up  \\\n",
       "Answer.article_hash                                WorkerId                      \n",
       "ad7ae93a040c050c6264c5b1c55b6436503b34e40637868... A1IZ4NX41GKU4X            0   \n",
       "\n",
       "                                                                   n_reference  \\\n",
       "Answer.article_hash                                WorkerId                      \n",
       "ad7ae93a040c050c6264c5b1c55b6436503b34e40637868... A1IZ4NX41GKU4X            1   \n",
       "\n",
       "                                                                   n_dca  \\\n",
       "Answer.article_hash                                WorkerId                \n",
       "ad7ae93a040c050c6264c5b1c55b6436503b34e40637868... A1IZ4NX41GKU4X      3   \n",
       "\n",
       "                                                                   n_pg  \\\n",
       "Answer.article_hash                                WorkerId               \n",
       "ad7ae93a040c050c6264c5b1c55b6436503b34e40637868... A1IZ4NX41GKU4X     1   \n",
       "\n",
       "                                                                   n_novel  \\\n",
       "Answer.article_hash                                WorkerId                  \n",
       "ad7ae93a040c050c6264c5b1c55b6436503b34e40637868... A1IZ4NX41GKU4X        1   \n",
       "\n",
       "                                                                   n_abs-rl-rerank  \\\n",
       "Answer.article_hash                                WorkerId                          \n",
       "ad7ae93a040c050c6264c5b1c55b6436503b34e40637868... A1IZ4NX41GKU4X                0   \n",
       "\n",
       "                                                                  sys_0  \\\n",
       "Answer.article_hash                                WorkerId               \n",
       "ad7ae93a040c050c6264c5b1c55b6436503b34e40637868... A1IZ4NX41GKU4X   dca   \n",
       "\n",
       "                                                                       sys_1  \\\n",
       "Answer.article_hash                                WorkerId                    \n",
       "ad7ae93a040c050c6264c5b1c55b6436503b34e40637868... A1IZ4NX41GKU4X  reference   \n",
       "\n",
       "                                                                  sys_2 sys_3  \\\n",
       "Answer.article_hash                                WorkerId                     \n",
       "ad7ae93a040c050c6264c5b1c55b6436503b34e40637868... A1IZ4NX41GKU4X    pg   dca   \n",
       "\n",
       "                                                                   ...  \\\n",
       "Answer.article_hash                                WorkerId        ...   \n",
       "ad7ae93a040c050c6264c5b1c55b6436503b34e40637868... A1IZ4NX41GKU4X  ...   \n",
       "\n",
       "                                                                                                           summary_2  \\\n",
       "Answer.article_hash                                WorkerId                                                            \n",
       "ad7ae93a040c050c6264c5b1c55b6436503b34e40637868... A1IZ4NX41GKU4X  guitar slinger jimi hendrix inflamed mainstrea...   \n",
       "\n",
       "                                                                                                           summary_3  \\\n",
       "Answer.article_hash                                WorkerId                                                            \n",
       "ad7ae93a040c050c6264c5b1c55b6436503b34e40637868... A1IZ4NX41GKU4X  the crowd at the american league game would be...   \n",
       "\n",
       "                                                                                                           summary_4  \\\n",
       "Answer.article_hash                                WorkerId                                                            \n",
       "ad7ae93a040c050c6264c5b1c55b6436503b34e40637868... A1IZ4NX41GKU4X  the american national anthem will be a nationa...   \n",
       "\n",
       "                                                                                                           summary_5  \\\n",
       "Answer.article_hash                                WorkerId                                                            \n",
       "ad7ae93a040c050c6264c5b1c55b6436503b34e40637868... A1IZ4NX41GKU4X  the late night of the gulf war in the san dieg...   \n",
       "\n",
       "                                                                                                               sha_0  \\\n",
       "Answer.article_hash                                WorkerId                                                            \n",
       "ad7ae93a040c050c6264c5b1c55b6436503b34e40637868... A1IZ4NX41GKU4X  919603c3c8e2217d9afe6e7a407d27d296363a71f451f1...   \n",
       "\n",
       "                                                                                                               sha_1  \\\n",
       "Answer.article_hash                                WorkerId                                                            \n",
       "ad7ae93a040c050c6264c5b1c55b6436503b34e40637868... A1IZ4NX41GKU4X  c6fa2649470d5bc264f3b9e5fc182f2918be95b1034d4a...   \n",
       "\n",
       "                                                                                                               sha_2  \\\n",
       "Answer.article_hash                                WorkerId                                                            \n",
       "ad7ae93a040c050c6264c5b1c55b6436503b34e40637868... A1IZ4NX41GKU4X  f0f10dd0a9be8230cd858590b3614a9717678b7e7b0b38...   \n",
       "\n",
       "                                                                                                               sha_3  \\\n",
       "Answer.article_hash                                WorkerId                                                            \n",
       "ad7ae93a040c050c6264c5b1c55b6436503b34e40637868... A1IZ4NX41GKU4X  a01be3c29e2edcc91106bed254a773e8bad56d3c790cb4...   \n",
       "\n",
       "                                                                                                               sha_4  \\\n",
       "Answer.article_hash                                WorkerId                                                            \n",
       "ad7ae93a040c050c6264c5b1c55b6436503b34e40637868... A1IZ4NX41GKU4X  3fa58b9761027bd14d20b5f2a88563b9dc07fe1c966b26...   \n",
       "\n",
       "                                                                                                               sha_5  \n",
       "Answer.article_hash                                WorkerId                                                           \n",
       "ad7ae93a040c050c6264c5b1c55b6436503b34e40637868... A1IZ4NX41GKU4X  98ad3008c98e52919d633781fc00ac0ac82946761b9985...  \n",
       "\n",
       "[1 rows x 48 columns]"
      ]
     },
     "metadata": {},
     "output_type": "display_data"
    }
   ],
   "source": [
    "\"\"\"Gathers all statistics for paper and makes plots.\"\"\"\n",
    "import itertools\n",
    "\n",
    "import numpy as np\n",
    "import pandas as pd\n",
    "import seaborn as sns\n",
    "import matplotlib.pyplot as plt\n",
    "\n",
    "processed = pd.read_csv(\"processed.csv\")\n",
    "processed.set_index([\"Answer.article_hash\", \"WorkerId\"], inplace=True)\n",
    "\n",
    "systems = [\"bottom-up\", \"dca\", \"pg\", \"novel\", \"abs-rl-rerank\", \"reference\"]\n",
    "n_sys = len(systems)\n",
    "n_exs = len(processed) * n_sys\n",
    "eps = 1e-15\n",
    "\n",
    "merge_d = {\n",
    "    \"Bal. Concat.\": \"bc\",\n",
    "    \"Imbal. Concat.\": \"ic\",\n",
    "    \"Replacement\": \"re\",\n",
    "    \"Other\": \"ot\",\n",
    "}\n",
    "\n",
    "sys_selec = [f\"sys_{idx}\" for idx in range(n_sys)]\n",
    "grm_selec = [f\"gramm_{idx}\" for idx in range(n_sys)]\n",
    "fth_selec = [f\"faith_{idx}\" for idx in range(n_sys)]\n",
    "cvr_selec = [f\"cover_{idx}\" for idx in range(n_sys)]\n",
    "mrg_selec = [f\"merge_{idx}\" for idx in range(n_sys)]\n",
    "sum_selec = [f\"summary_{idx}\" for idx in range(n_sys)]\n",
    "\n",
    "masks = {sys: (processed[sys_selec] == sys).values for sys in systems}\n",
    "n_of = {sys: processed[f\"n_{sys}\"].sum() for sys in systems}\n",
    "\n",
    "display(processed.head(n=1))\n",
    "# display(processed.info())"
   ]
  },
  {
   "cell_type": "markdown",
   "metadata": {},
   "source": [
    "---\n",
    "## Averages"
   ]
  },
  {
   "cell_type": "markdown",
   "metadata": {},
   "source": [
    "### Tabular output"
   ]
  },
  {
   "cell_type": "code",
   "execution_count": 2,
   "metadata": {},
   "outputs": [
    {
     "data": {
      "text/html": [
       "<div>\n",
       "<style scoped>\n",
       "    .dataframe tbody tr th:only-of-type {\n",
       "        vertical-align: middle;\n",
       "    }\n",
       "\n",
       "    .dataframe tbody tr th {\n",
       "        vertical-align: top;\n",
       "    }\n",
       "\n",
       "    .dataframe thead th {\n",
       "        text-align: right;\n",
       "    }\n",
       "</style>\n",
       "<table border=\"1\" class=\"dataframe\">\n",
       "  <thead>\n",
       "    <tr style=\"text-align: right;\">\n",
       "      <th></th>\n",
       "      <th>system</th>\n",
       "      <th>gramm</th>\n",
       "      <th>faith</th>\n",
       "      <th>cover</th>\n",
       "    </tr>\n",
       "  </thead>\n",
       "  <tbody>\n",
       "    <tr>\n",
       "      <th>0</th>\n",
       "      <td>bottom-up</td>\n",
       "      <td>0.788809</td>\n",
       "      <td>0.568592</td>\n",
       "      <td>0.785199</td>\n",
       "    </tr>\n",
       "    <tr>\n",
       "      <th>1</th>\n",
       "      <td>dca</td>\n",
       "      <td>0.723577</td>\n",
       "      <td>0.469512</td>\n",
       "      <td>0.626016</td>\n",
       "    </tr>\n",
       "    <tr>\n",
       "      <th>2</th>\n",
       "      <td>pg</td>\n",
       "      <td>0.846154</td>\n",
       "      <td>0.769231</td>\n",
       "      <td>0.895105</td>\n",
       "    </tr>\n",
       "    <tr>\n",
       "      <th>3</th>\n",
       "      <td>novel</td>\n",
       "      <td>0.785494</td>\n",
       "      <td>0.584877</td>\n",
       "      <td>0.753086</td>\n",
       "    </tr>\n",
       "    <tr>\n",
       "      <th>4</th>\n",
       "      <td>abs-rl-rerank</td>\n",
       "      <td>0.775862</td>\n",
       "      <td>0.689655</td>\n",
       "      <td>0.827586</td>\n",
       "    </tr>\n",
       "    <tr>\n",
       "      <th>5</th>\n",
       "      <td>reference</td>\n",
       "      <td>0.915567</td>\n",
       "      <td>0.883905</td>\n",
       "      <td>0.74934</td>\n",
       "    </tr>\n",
       "  </tbody>\n",
       "</table>\n",
       "</div>"
      ],
      "text/plain": [
       "          system     gramm     faith     cover\n",
       "0      bottom-up  0.788809  0.568592  0.785199\n",
       "1            dca  0.723577  0.469512  0.626016\n",
       "2             pg  0.846154  0.769231  0.895105\n",
       "3          novel  0.785494  0.584877  0.753086\n",
       "4  abs-rl-rerank  0.775862  0.689655  0.827586\n",
       "5      reference  0.915567  0.883905   0.74934"
      ]
     },
     "execution_count": 2,
     "metadata": {},
     "output_type": "execute_result"
    }
   ],
   "source": [
    "averages = pd.DataFrame(columns=[\"system\", \"gramm\", \"faith\", \"cover\"])\n",
    "averages[\"system\"] = systems\n",
    "averages.set_index([\"system\"], inplace=True)\n",
    "\n",
    "for sys in systems:\n",
    "    averages.loc[sys, \"gramm\"] = (processed[grm_selec] * masks[sys]).sum().sum() / n_of[sys]\n",
    "    averages.loc[sys, \"faith\"] = (processed[fth_selec] * masks[sys]).sum().sum() / n_of[sys]\n",
    "    averages.loc[sys, \"cover\"] = (processed[cvr_selec] * masks[sys]).sum().sum() / n_of[sys]\n",
    "    \n",
    "averages.reset_index(inplace=True)\n",
    "averages"
   ]
  },
  {
   "cell_type": "markdown",
   "metadata": {},
   "source": [
    "### Graphical output"
   ]
  },
  {
   "cell_type": "code",
   "execution_count": 3,
   "metadata": {},
   "outputs": [
    {
     "data": {
      "text/html": [
       "<div>\n",
       "<style scoped>\n",
       "    .dataframe tbody tr th:only-of-type {\n",
       "        vertical-align: middle;\n",
       "    }\n",
       "\n",
       "    .dataframe tbody tr th {\n",
       "        vertical-align: top;\n",
       "    }\n",
       "\n",
       "    .dataframe thead th {\n",
       "        text-align: right;\n",
       "    }\n",
       "</style>\n",
       "<table border=\"1\" class=\"dataframe\">\n",
       "  <thead>\n",
       "    <tr style=\"text-align: right;\">\n",
       "      <th></th>\n",
       "      <th>system</th>\n",
       "      <th>gramm</th>\n",
       "      <th>faith</th>\n",
       "      <th>cover</th>\n",
       "    </tr>\n",
       "  </thead>\n",
       "  <tbody>\n",
       "    <tr>\n",
       "      <th>1</th>\n",
       "      <td>dca</td>\n",
       "      <td>0.723577</td>\n",
       "      <td>0.469512</td>\n",
       "      <td>0.626016</td>\n",
       "    </tr>\n",
       "    <tr>\n",
       "      <th>0</th>\n",
       "      <td>bottom-up</td>\n",
       "      <td>0.788809</td>\n",
       "      <td>0.568592</td>\n",
       "      <td>0.785199</td>\n",
       "    </tr>\n",
       "    <tr>\n",
       "      <th>3</th>\n",
       "      <td>novel</td>\n",
       "      <td>0.785494</td>\n",
       "      <td>0.584877</td>\n",
       "      <td>0.753086</td>\n",
       "    </tr>\n",
       "    <tr>\n",
       "      <th>4</th>\n",
       "      <td>abs-rl-rerank</td>\n",
       "      <td>0.775862</td>\n",
       "      <td>0.689655</td>\n",
       "      <td>0.827586</td>\n",
       "    </tr>\n",
       "    <tr>\n",
       "      <th>2</th>\n",
       "      <td>pg</td>\n",
       "      <td>0.846154</td>\n",
       "      <td>0.769231</td>\n",
       "      <td>0.895105</td>\n",
       "    </tr>\n",
       "    <tr>\n",
       "      <th>5</th>\n",
       "      <td>reference</td>\n",
       "      <td>0.915567</td>\n",
       "      <td>0.883905</td>\n",
       "      <td>0.74934</td>\n",
       "    </tr>\n",
       "  </tbody>\n",
       "</table>\n",
       "</div>"
      ],
      "text/plain": [
       "          system     gramm     faith     cover\n",
       "1            dca  0.723577  0.469512  0.626016\n",
       "0      bottom-up  0.788809  0.568592  0.785199\n",
       "3          novel  0.785494  0.584877  0.753086\n",
       "4  abs-rl-rerank  0.775862  0.689655  0.827586\n",
       "2             pg  0.846154  0.769231  0.895105\n",
       "5      reference  0.915567  0.883905   0.74934"
      ]
     },
     "metadata": {},
     "output_type": "display_data"
    },
    {
     "data": {
      "text/html": [
       "<div>\n",
       "<style scoped>\n",
       "    .dataframe tbody tr th:only-of-type {\n",
       "        vertical-align: middle;\n",
       "    }\n",
       "\n",
       "    .dataframe tbody tr th {\n",
       "        vertical-align: top;\n",
       "    }\n",
       "\n",
       "    .dataframe thead th {\n",
       "        text-align: right;\n",
       "    }\n",
       "</style>\n",
       "<table border=\"1\" class=\"dataframe\">\n",
       "  <thead>\n",
       "    <tr style=\"text-align: right;\">\n",
       "      <th></th>\n",
       "      <th>system</th>\n",
       "      <th>metric</th>\n",
       "      <th>probability</th>\n",
       "    </tr>\n",
       "  </thead>\n",
       "  <tbody>\n",
       "    <tr>\n",
       "      <th>0</th>\n",
       "      <td>dca</td>\n",
       "      <td>faith</td>\n",
       "      <td>0.469512</td>\n",
       "    </tr>\n",
       "    <tr>\n",
       "      <th>1</th>\n",
       "      <td>bottom-up</td>\n",
       "      <td>faith</td>\n",
       "      <td>0.568592</td>\n",
       "    </tr>\n",
       "    <tr>\n",
       "      <th>2</th>\n",
       "      <td>novel</td>\n",
       "      <td>faith</td>\n",
       "      <td>0.584877</td>\n",
       "    </tr>\n",
       "    <tr>\n",
       "      <th>3</th>\n",
       "      <td>abs-rl-rerank</td>\n",
       "      <td>faith</td>\n",
       "      <td>0.689655</td>\n",
       "    </tr>\n",
       "    <tr>\n",
       "      <th>4</th>\n",
       "      <td>pg</td>\n",
       "      <td>faith</td>\n",
       "      <td>0.769231</td>\n",
       "    </tr>\n",
       "    <tr>\n",
       "      <th>5</th>\n",
       "      <td>reference</td>\n",
       "      <td>faith</td>\n",
       "      <td>0.883905</td>\n",
       "    </tr>\n",
       "    <tr>\n",
       "      <th>6</th>\n",
       "      <td>dca</td>\n",
       "      <td>gramm</td>\n",
       "      <td>0.723577</td>\n",
       "    </tr>\n",
       "    <tr>\n",
       "      <th>7</th>\n",
       "      <td>bottom-up</td>\n",
       "      <td>gramm</td>\n",
       "      <td>0.788809</td>\n",
       "    </tr>\n",
       "    <tr>\n",
       "      <th>8</th>\n",
       "      <td>novel</td>\n",
       "      <td>gramm</td>\n",
       "      <td>0.785494</td>\n",
       "    </tr>\n",
       "    <tr>\n",
       "      <th>9</th>\n",
       "      <td>abs-rl-rerank</td>\n",
       "      <td>gramm</td>\n",
       "      <td>0.775862</td>\n",
       "    </tr>\n",
       "    <tr>\n",
       "      <th>10</th>\n",
       "      <td>pg</td>\n",
       "      <td>gramm</td>\n",
       "      <td>0.846154</td>\n",
       "    </tr>\n",
       "    <tr>\n",
       "      <th>11</th>\n",
       "      <td>reference</td>\n",
       "      <td>gramm</td>\n",
       "      <td>0.915567</td>\n",
       "    </tr>\n",
       "    <tr>\n",
       "      <th>12</th>\n",
       "      <td>dca</td>\n",
       "      <td>cover</td>\n",
       "      <td>0.626016</td>\n",
       "    </tr>\n",
       "    <tr>\n",
       "      <th>13</th>\n",
       "      <td>bottom-up</td>\n",
       "      <td>cover</td>\n",
       "      <td>0.785199</td>\n",
       "    </tr>\n",
       "    <tr>\n",
       "      <th>14</th>\n",
       "      <td>novel</td>\n",
       "      <td>cover</td>\n",
       "      <td>0.753086</td>\n",
       "    </tr>\n",
       "    <tr>\n",
       "      <th>15</th>\n",
       "      <td>abs-rl-rerank</td>\n",
       "      <td>cover</td>\n",
       "      <td>0.827586</td>\n",
       "    </tr>\n",
       "    <tr>\n",
       "      <th>16</th>\n",
       "      <td>pg</td>\n",
       "      <td>cover</td>\n",
       "      <td>0.895105</td>\n",
       "    </tr>\n",
       "    <tr>\n",
       "      <th>17</th>\n",
       "      <td>reference</td>\n",
       "      <td>cover</td>\n",
       "      <td>0.74934</td>\n",
       "    </tr>\n",
       "  </tbody>\n",
       "</table>\n",
       "</div>"
      ],
      "text/plain": [
       "           system metric probability\n",
       "0             dca  faith    0.469512\n",
       "1       bottom-up  faith    0.568592\n",
       "2           novel  faith    0.584877\n",
       "3   abs-rl-rerank  faith    0.689655\n",
       "4              pg  faith    0.769231\n",
       "5       reference  faith    0.883905\n",
       "6             dca  gramm    0.723577\n",
       "7       bottom-up  gramm    0.788809\n",
       "8           novel  gramm    0.785494\n",
       "9   abs-rl-rerank  gramm    0.775862\n",
       "10             pg  gramm    0.846154\n",
       "11      reference  gramm    0.915567\n",
       "12            dca  cover    0.626016\n",
       "13      bottom-up  cover    0.785199\n",
       "14          novel  cover    0.753086\n",
       "15  abs-rl-rerank  cover    0.827586\n",
       "16             pg  cover    0.895105\n",
       "17      reference  cover     0.74934"
      ]
     },
     "metadata": {},
     "output_type": "display_data"
    }
   ],
   "source": [
    "averages.sort_values(by=[\"faith\"], inplace=True)\n",
    "display(averages)\n",
    "sns_averages = pd.melt(averages, id_vars=[\"system\"], value_vars=[\"faith\", \"gramm\", \"cover\"],\n",
    "                       var_name=\"metric\", value_name=\"probability\")\n",
    "display(sns_averages)"
   ]
  },
  {
   "cell_type": "code",
   "execution_count": 4,
   "metadata": {},
   "outputs": [
    {
     "data": {
      "text/plain": [
       "<seaborn.axisgrid.FacetGrid at 0x109aeb4a8>"
      ]
     },
     "execution_count": 4,
     "metadata": {},
     "output_type": "execute_result"
    },
    {
     "data": {
      "image/png": "[encoded data removed]",
      "text/plain": [
       "<Figure size 434.1x360 with 1 Axes>"
      ]
     },
     "metadata": {},
     "output_type": "display_data"
    }
   ],
   "source": [
    "sns.set(style=\"darkgrid\")\n",
    "sns_averages_plot = sns.catplot(x=\"probability\", y=\"system\", hue=\"metric\", data=sns_averages, kind=\"bar\",)\n",
    "\n",
    "sns_averages_plot.fig.savefig(\"averages.pdf\")\n",
    "sns_averages_plot"
   ]
  },
  {
   "cell_type": "markdown",
   "metadata": {},
   "source": [
    "---\n",
    "## Distribution over Merging"
   ]
  },
  {
   "cell_type": "markdown",
   "metadata": {},
   "source": [
    "### Tabular output"
   ]
  },
  {
   "cell_type": "code",
   "execution_count": 5,
   "metadata": {
    "scrolled": false
   },
   "outputs": [
    {
     "data": {
      "text/html": [
       "<div>\n",
       "<style scoped>\n",
       "    .dataframe tbody tr th:only-of-type {\n",
       "        vertical-align: middle;\n",
       "    }\n",
       "\n",
       "    .dataframe tbody tr th {\n",
       "        vertical-align: top;\n",
       "    }\n",
       "\n",
       "    .dataframe thead th {\n",
       "        text-align: right;\n",
       "    }\n",
       "</style>\n",
       "<table border=\"1\" class=\"dataframe\">\n",
       "  <thead>\n",
       "    <tr style=\"text-align: right;\">\n",
       "      <th></th>\n",
       "      <th>bc</th>\n",
       "      <th>ic</th>\n",
       "      <th>re</th>\n",
       "      <th>ot</th>\n",
       "    </tr>\n",
       "    <tr>\n",
       "      <th>system</th>\n",
       "      <th></th>\n",
       "      <th></th>\n",
       "      <th></th>\n",
       "      <th></th>\n",
       "    </tr>\n",
       "  </thead>\n",
       "  <tbody>\n",
       "    <tr>\n",
       "      <th>bottom-up</th>\n",
       "      <td>0.315884</td>\n",
       "      <td>0.379061</td>\n",
       "      <td>0.111913</td>\n",
       "      <td>0.193141</td>\n",
       "    </tr>\n",
       "    <tr>\n",
       "      <th>dca</th>\n",
       "      <td>0.229675</td>\n",
       "      <td>0.365854</td>\n",
       "      <td>0.0934959</td>\n",
       "      <td>0.310976</td>\n",
       "    </tr>\n",
       "    <tr>\n",
       "      <th>pg</th>\n",
       "      <td>0.398601</td>\n",
       "      <td>0.405594</td>\n",
       "      <td>0.111888</td>\n",
       "      <td>0.0839161</td>\n",
       "    </tr>\n",
       "    <tr>\n",
       "      <th>novel</th>\n",
       "      <td>0.274691</td>\n",
       "      <td>0.382716</td>\n",
       "      <td>0.132716</td>\n",
       "      <td>0.209877</td>\n",
       "    </tr>\n",
       "    <tr>\n",
       "      <th>abs-rl-rerank</th>\n",
       "      <td>0.396552</td>\n",
       "      <td>0.344828</td>\n",
       "      <td>0.12069</td>\n",
       "      <td>0.137931</td>\n",
       "    </tr>\n",
       "    <tr>\n",
       "      <th>reference</th>\n",
       "      <td>0.313984</td>\n",
       "      <td>0.422164</td>\n",
       "      <td>0.0738786</td>\n",
       "      <td>0.189974</td>\n",
       "    </tr>\n",
       "  </tbody>\n",
       "</table>\n",
       "</div>"
      ],
      "text/plain": [
       "                     bc        ic         re         ot\n",
       "system                                                 \n",
       "bottom-up      0.315884  0.379061   0.111913   0.193141\n",
       "dca            0.229675  0.365854  0.0934959   0.310976\n",
       "pg             0.398601  0.405594   0.111888  0.0839161\n",
       "novel          0.274691  0.382716   0.132716   0.209877\n",
       "abs-rl-rerank  0.396552  0.344828    0.12069   0.137931\n",
       "reference      0.313984  0.422164  0.0738786   0.189974"
      ]
     },
     "execution_count": 5,
     "metadata": {},
     "output_type": "execute_result"
    }
   ],
   "source": [
    "merge_opts = list(merge_d.values())\n",
    "merge_dist = pd.DataFrame(columns=[\"system\"] + merge_opts)\n",
    "merge_dist[\"system\"] = systems\n",
    "merge_dist.set_index([\"system\"], inplace=True)\n",
    "\n",
    "# for sys, col in itertools.product(systems, merge_opts):\n",
    "for sys, col in itertools.product(systems, merge_opts):\n",
    "    merge_dist.loc[sys, col] = ((processed[mrg_selec] == col).values * masks[sys]).sum() / n_of[sys]\n",
    "\n",
    "assert all(merge_dist.sum(axis=1) >= (1 - eps)), merge_dist.sum(axis=1)\n",
    "merge_dist"
   ]
  },
  {
   "cell_type": "markdown",
   "metadata": {},
   "source": [
    "### Graphical output"
   ]
  },
  {
   "cell_type": "code",
   "execution_count": 6,
   "metadata": {
    "scrolled": false
   },
   "outputs": [
    {
     "data": {
      "image/png": "[encoded data removed]",
      "text/plain": [
       "<Figure size 432x288 with 1 Axes>"
      ]
     },
     "metadata": {},
     "output_type": "display_data"
    }
   ],
   "source": [
    "merge_dist_plot = merge_dist.plot(kind=\"barh\", stacked=True)\n",
    "merge_dist_plot.figure.savefig(\"merge_dist.pdf\")"
   ]
  },
  {
   "cell_type": "markdown",
   "metadata": {},
   "source": [
    "---\n",
    "## Averages over Merging"
   ]
  },
  {
   "cell_type": "markdown",
   "metadata": {},
   "source": [
    "### Tabular output"
   ]
  },
  {
   "cell_type": "code",
   "execution_count": 7,
   "metadata": {},
   "outputs": [
    {
     "data": {
      "text/html": [
       "<div>\n",
       "<style scoped>\n",
       "    .dataframe tbody tr th:only-of-type {\n",
       "        vertical-align: middle;\n",
       "    }\n",
       "\n",
       "    .dataframe tbody tr th {\n",
       "        vertical-align: top;\n",
       "    }\n",
       "\n",
       "    .dataframe thead th {\n",
       "        text-align: right;\n",
       "    }\n",
       "</style>\n",
       "<table border=\"1\" class=\"dataframe\">\n",
       "  <thead>\n",
       "    <tr style=\"text-align: right;\">\n",
       "      <th></th>\n",
       "      <th>gramm</th>\n",
       "      <th>faith</th>\n",
       "      <th>cover</th>\n",
       "      <th>prob</th>\n",
       "    </tr>\n",
       "    <tr>\n",
       "      <th>merge</th>\n",
       "      <th></th>\n",
       "      <th></th>\n",
       "      <th></th>\n",
       "      <th></th>\n",
       "    </tr>\n",
       "  </thead>\n",
       "  <tbody>\n",
       "    <tr>\n",
       "      <th>bc</th>\n",
       "      <td>0.869173</td>\n",
       "      <td>0.825564</td>\n",
       "      <td>0.944361</td>\n",
       "      <td>0.292436</td>\n",
       "    </tr>\n",
       "    <tr>\n",
       "      <th>ic</th>\n",
       "      <td>0.802511</td>\n",
       "      <td>0.694064</td>\n",
       "      <td>0.84589</td>\n",
       "      <td>0.385224</td>\n",
       "    </tr>\n",
       "    <tr>\n",
       "      <th>re</th>\n",
       "      <td>0.820408</td>\n",
       "      <td>0.530612</td>\n",
       "      <td>0.77551</td>\n",
       "      <td>0.10774</td>\n",
       "    </tr>\n",
       "    <tr>\n",
       "      <th>ot</th>\n",
       "      <td>0.682377</td>\n",
       "      <td>0.252049</td>\n",
       "      <td>0.270492</td>\n",
       "      <td>0.2146</td>\n",
       "    </tr>\n",
       "  </tbody>\n",
       "</table>\n",
       "</div>"
      ],
      "text/plain": [
       "          gramm     faith     cover      prob\n",
       "merge                                        \n",
       "bc     0.869173  0.825564  0.944361  0.292436\n",
       "ic     0.802511  0.694064   0.84589  0.385224\n",
       "re     0.820408  0.530612   0.77551   0.10774\n",
       "ot     0.682377  0.252049  0.270492    0.2146"
      ]
     },
     "execution_count": 7,
     "metadata": {},
     "output_type": "execute_result"
    }
   ],
   "source": [
    "avg_over_merge = pd.DataFrame(columns=[\"merge\", \"gramm\", \"faith\", \"cover\", \"prob\"])\n",
    "avg_over_merge[\"merge\"] = merge_opts\n",
    "avg_over_merge.set_index([\"merge\"], inplace=True)\n",
    "\n",
    "G_mask = (processed[grm_selec] == True)\n",
    "F_mask = (processed[fth_selec] == True)\n",
    "C_mask = (processed[cvr_selec] == True)\n",
    "\n",
    "p_gramm = G_mask.sum().sum() / n_exs  # p(grammatical)\n",
    "p_faith = F_mask.sum().sum() / n_exs  # p(faithful)\n",
    "p_cover = C_mask.sum().sum() / n_exs  # p(covered)\n",
    "\n",
    "for opt in merge_opts:\n",
    "    mrg_mask = (processed[mrg_selec] == opt).astype(int)\n",
    "    avg_over_merge.loc[opt, \"prob\"] = mrg_mask.sum().sum() / n_exs\n",
    "    \n",
    "    avg_over_merge.loc[opt, \"gramm\"] = (G_mask.values * mrg_mask.values).sum() / mrg_mask.sum().sum()\n",
    "    avg_over_merge.loc[opt, \"faith\"] = (F_mask.values * mrg_mask.values).sum() / mrg_mask.sum().sum()\n",
    "    avg_over_merge.loc[opt, \"cover\"] = (C_mask.values * mrg_mask.values).sum() / mrg_mask.sum().sum()\n",
    "    \n",
    "assert (avg_over_merge[\"gramm\"] * avg_over_merge[\"prob\"]).sum() - p_gramm <= eps\n",
    "assert (avg_over_merge[\"faith\"] * avg_over_merge[\"prob\"]).sum() - p_faith <= eps\n",
    "assert (avg_over_merge[\"cover\"] * avg_over_merge[\"prob\"]).sum() - p_cover <= eps\n",
    "\n",
    "avg_over_merge"
   ]
  },
  {
   "cell_type": "markdown",
   "metadata": {},
   "source": [
    "### Graphical output"
   ]
  },
  {
   "cell_type": "code",
   "execution_count": 8,
   "metadata": {},
   "outputs": [
    {
     "data": {
      "text/plain": [
       "<seaborn.axisgrid.FacetGrid at 0x125b6ae80>"
      ]
     },
     "execution_count": 8,
     "metadata": {},
     "output_type": "execute_result"
    },
    {
     "data": {
      "image/png": "[encoded data removed]",
      "text/plain": [
       "<Figure size 434.1x360 with 1 Axes>"
      ]
     },
     "metadata": {},
     "output_type": "display_data"
    }
   ],
   "source": [
    "avg_over_merge_plot = avg_over_merge.drop(columns=[\"prob\"]).reset_index().sort_values(by=[\"faith\"])\n",
    "avg_over_merge_plot = pd.melt(avg_over_merge_plot, id_vars=[\"merge\"], value_vars=[\"faith\", \"gramm\", \"cover\"],\n",
    "                              var_name=\"metric\", value_name=\"probability\")\n",
    "\n",
    "sns_avg_over_merge_plot = sns.catplot(x=\"probability\", y=\"merge\", hue=\"metric\", data=avg_over_merge_plot, kind=\"bar\",)\n",
    "\n",
    "sns_avg_over_merge_plot.fig.savefig(\"avg_over_merge.pdf\")\n",
    "sns_avg_over_merge_plot"
   ]
  },
  {
   "cell_type": "markdown",
   "metadata": {},
   "source": [
    "---\n",
    "## Distribution over Merging for `[unfaithful, ungrammatical, uncoverage]`"
   ]
  },
  {
   "cell_type": "markdown",
   "metadata": {},
   "source": [
    "### Tabular output"
   ]
  },
  {
   "cell_type": "code",
   "execution_count": 9,
   "metadata": {
    "scrolled": false
   },
   "outputs": [
    {
     "data": {
      "text/markdown": [
       "### Unfaithful"
      ],
      "text/plain": [
       "<IPython.core.display.Markdown object>"
      ]
     },
     "metadata": {},
     "output_type": "display_data"
    },
    {
     "data": {
      "text/html": [
       "<div>\n",
       "<style scoped>\n",
       "    .dataframe tbody tr th:only-of-type {\n",
       "        vertical-align: middle;\n",
       "    }\n",
       "\n",
       "    .dataframe tbody tr th {\n",
       "        vertical-align: top;\n",
       "    }\n",
       "\n",
       "    .dataframe thead th {\n",
       "        text-align: right;\n",
       "    }\n",
       "</style>\n",
       "<table border=\"1\" class=\"dataframe\">\n",
       "  <thead>\n",
       "    <tr style=\"text-align: right;\">\n",
       "      <th></th>\n",
       "      <th>count</th>\n",
       "      <th>total</th>\n",
       "      <th>percent</th>\n",
       "    </tr>\n",
       "    <tr>\n",
       "      <th>merge</th>\n",
       "      <th></th>\n",
       "      <th></th>\n",
       "      <th></th>\n",
       "    </tr>\n",
       "  </thead>\n",
       "  <tbody>\n",
       "    <tr>\n",
       "      <th>bc</th>\n",
       "      <td>20</td>\n",
       "      <td>665</td>\n",
       "      <td>0.030075</td>\n",
       "    </tr>\n",
       "    <tr>\n",
       "      <th>ic</th>\n",
       "      <td>42</td>\n",
       "      <td>876</td>\n",
       "      <td>0.047945</td>\n",
       "    </tr>\n",
       "    <tr>\n",
       "      <th>re</th>\n",
       "      <td>19</td>\n",
       "      <td>245</td>\n",
       "      <td>0.077551</td>\n",
       "    </tr>\n",
       "    <tr>\n",
       "      <th>ot</th>\n",
       "      <td>39</td>\n",
       "      <td>488</td>\n",
       "      <td>0.079918</td>\n",
       "    </tr>\n",
       "  </tbody>\n",
       "</table>\n",
       "</div>"
      ],
      "text/plain": [
       "       count  total   percent\n",
       "merge                        \n",
       "bc        20    665  0.030075\n",
       "ic        42    876  0.047945\n",
       "re        19    245  0.077551\n",
       "ot        39    488  0.079918"
      ]
     },
     "metadata": {},
     "output_type": "display_data"
    },
    {
     "data": {
      "text/markdown": [
       "### Ungrammatical"
      ],
      "text/plain": [
       "<IPython.core.display.Markdown object>"
      ]
     },
     "metadata": {},
     "output_type": "display_data"
    },
    {
     "data": {
      "text/html": [
       "<div>\n",
       "<style scoped>\n",
       "    .dataframe tbody tr th:only-of-type {\n",
       "        vertical-align: middle;\n",
       "    }\n",
       "\n",
       "    .dataframe tbody tr th {\n",
       "        vertical-align: top;\n",
       "    }\n",
       "\n",
       "    .dataframe thead th {\n",
       "        text-align: right;\n",
       "    }\n",
       "</style>\n",
       "<table border=\"1\" class=\"dataframe\">\n",
       "  <thead>\n",
       "    <tr style=\"text-align: right;\">\n",
       "      <th></th>\n",
       "      <th>count</th>\n",
       "      <th>total</th>\n",
       "      <th>percent</th>\n",
       "    </tr>\n",
       "    <tr>\n",
       "      <th>merge</th>\n",
       "      <th></th>\n",
       "      <th></th>\n",
       "      <th></th>\n",
       "    </tr>\n",
       "  </thead>\n",
       "  <tbody>\n",
       "    <tr>\n",
       "      <th>bc</th>\n",
       "      <td>11</td>\n",
       "      <td>665</td>\n",
       "      <td>0.016541</td>\n",
       "    </tr>\n",
       "    <tr>\n",
       "      <th>ic</th>\n",
       "      <td>17</td>\n",
       "      <td>876</td>\n",
       "      <td>0.019406</td>\n",
       "    </tr>\n",
       "    <tr>\n",
       "      <th>re</th>\n",
       "      <td>5</td>\n",
       "      <td>245</td>\n",
       "      <td>0.020408</td>\n",
       "    </tr>\n",
       "    <tr>\n",
       "      <th>ot</th>\n",
       "      <td>16</td>\n",
       "      <td>488</td>\n",
       "      <td>0.032787</td>\n",
       "    </tr>\n",
       "  </tbody>\n",
       "</table>\n",
       "</div>"
      ],
      "text/plain": [
       "       count  total   percent\n",
       "merge                        \n",
       "bc        11    665  0.016541\n",
       "ic        17    876  0.019406\n",
       "re         5    245  0.020408\n",
       "ot        16    488  0.032787"
      ]
     },
     "metadata": {},
     "output_type": "display_data"
    },
    {
     "data": {
      "text/markdown": [
       "### Uncoverage"
      ],
      "text/plain": [
       "<IPython.core.display.Markdown object>"
      ]
     },
     "metadata": {},
     "output_type": "display_data"
    },
    {
     "data": {
      "text/html": [
       "<div>\n",
       "<style scoped>\n",
       "    .dataframe tbody tr th:only-of-type {\n",
       "        vertical-align: middle;\n",
       "    }\n",
       "\n",
       "    .dataframe tbody tr th {\n",
       "        vertical-align: top;\n",
       "    }\n",
       "\n",
       "    .dataframe thead th {\n",
       "        text-align: right;\n",
       "    }\n",
       "</style>\n",
       "<table border=\"1\" class=\"dataframe\">\n",
       "  <thead>\n",
       "    <tr style=\"text-align: right;\">\n",
       "      <th></th>\n",
       "      <th>count</th>\n",
       "      <th>total</th>\n",
       "      <th>percent</th>\n",
       "    </tr>\n",
       "    <tr>\n",
       "      <th>merge</th>\n",
       "      <th></th>\n",
       "      <th></th>\n",
       "      <th></th>\n",
       "    </tr>\n",
       "  </thead>\n",
       "  <tbody>\n",
       "    <tr>\n",
       "      <th>bc</th>\n",
       "      <td>8</td>\n",
       "      <td>665</td>\n",
       "      <td>0.012030</td>\n",
       "    </tr>\n",
       "    <tr>\n",
       "      <th>ic</th>\n",
       "      <td>16</td>\n",
       "      <td>876</td>\n",
       "      <td>0.018265</td>\n",
       "    </tr>\n",
       "    <tr>\n",
       "      <th>re</th>\n",
       "      <td>6</td>\n",
       "      <td>245</td>\n",
       "      <td>0.024490</td>\n",
       "    </tr>\n",
       "    <tr>\n",
       "      <th>ot</th>\n",
       "      <td>27</td>\n",
       "      <td>488</td>\n",
       "      <td>0.055328</td>\n",
       "    </tr>\n",
       "  </tbody>\n",
       "</table>\n",
       "</div>"
      ],
      "text/plain": [
       "       count  total   percent\n",
       "merge                        \n",
       "bc         8    665  0.012030\n",
       "ic        16    876  0.018265\n",
       "re         6    245  0.024490\n",
       "ot        27    488  0.055328"
      ]
     },
     "metadata": {},
     "output_type": "display_data"
    }
   ],
   "source": [
    "# Distribution over the merging categories (only on uncoverage summ sents -- consider a summ sent to be \n",
    "# uncoverage if >= 51% of the responses were NO for coverage)\n",
    "idx_mask = np.arange(start=1, stop=n_sys + 1)\n",
    "def merge_dist_for(cols: list):\n",
    "    df = pd.DataFrame(columns=[\"merge\"])\n",
    "    df[\"merge\"] = merge_opts\n",
    "    df.set_index([\"merge\"], inplace=True)\n",
    "    df[\"count\"] = 0\n",
    "    df[\"total\"] = [(processed[mrg_selec] == opt).sum().sum() for opt in merge_opts]\n",
    "    df[\"percent\"] = 0.\n",
    "    \n",
    "    mask = np.empty_like(processed[sys_selec])\n",
    "    idx = 0\n",
    "    for article, responses in processed.groupby(\"Answer.article_hash\"):\n",
    "        un_cols = ((1 - responses[cols].mean().values) > 0.5) * idx_mask - 1\n",
    "        \n",
    "        off = responses.shape[0]\n",
    "        mask[idx:(idx + off)] = np.tile(un_cols, reps=off).reshape(off, n_sys)\n",
    "        idx += off\n",
    "        \n",
    "        selects = [v for v in un_cols if v > -1]\n",
    "        df_sele = responses.iloc[0][mrg_selec].values[selects]\n",
    "        df.loc[df_sele, \"count\"] += 1\n",
    "        \n",
    "    df[\"percent\"] = df[\"count\"] / df[\"total\"]\n",
    "        \n",
    "    return df, mask\n",
    "\n",
    "from IPython.display import Markdown\n",
    "\n",
    "display(Markdown(\"### Unfaithful\"))\n",
    "merge_dist_unfaith, mask_unfaith = merge_dist_for(fth_selec)\n",
    "display(merge_dist_unfaith)\n",
    "\n",
    "display(Markdown(\"### Ungrammatical\"))\n",
    "merge_dist_ungramm, mask_ungramm = merge_dist_for(grm_selec)\n",
    "display(merge_dist_ungramm)\n",
    "\n",
    "display(Markdown(\"### Uncoverage\"))\n",
    "merge_dist_uncover, mask_uncover = merge_dist_for(cvr_selec)\n",
    "display(merge_dist_uncover)"
   ]
  },
  {
   "cell_type": "markdown",
   "metadata": {},
   "source": [
    "### Graphical output"
   ]
  },
  {
   "cell_type": "code",
   "execution_count": 10,
   "metadata": {},
   "outputs": [
    {
     "data": {
      "image/png": "[encoded data removed]",
      "text/plain": [
       "<Figure size 472.225x360 with 1 Axes>"
      ]
     },
     "metadata": {},
     "output_type": "display_data"
    }
   ],
   "source": [
    "merge_dist_uns = pd.DataFrame(columns=[\"merge\", \"klass\", \"percent\"])\n",
    "merge_dist_uns[\"merge\"] = merge_opts * 3\n",
    "merge_dist_uns[\"klass\"] = [\"unfaithful\"] * 4 + [\"ungrammatical\"] * 4 + [\"uncoverage\"] * 4\n",
    "percents = list(merge_dist_unfaith[\"percent\"]) + list(merge_dist_ungramm[\"percent\"]) + list(merge_dist_uncover[\"percent\"])\n",
    "merge_dist_uns[\"percent\"] = percents\n",
    "\n",
    "# merge_dist_unfaith.plot(kind=\"barh\", y=\"percent\")\n",
    "# merge_dist_uncover.plot(kind=\"barh\", y=\"percent\")\n",
    "# merge_dist_ungramm.plot(kind=\"barh\", y=\"percent\")\n",
    "\n",
    "sns_merge_dist_uns = sns.catplot(kind=\"bar\", y=\"merge\", x=\"percent\", hue=\"klass\", data=merge_dist_uns)\n",
    "sns_merge_dist_uns.fig.savefig(\"merge_dist_uns.pdf\")"
   ]
  },
  {
   "cell_type": "markdown",
   "metadata": {},
   "source": [
    "---\n",
    "## 3 Examples (per system) of `[unfaithful, ungrammatical, uncoverage]`"
   ]
  },
  {
   "cell_type": "code",
   "execution_count": 11,
   "metadata": {
    "scrolled": false
   },
   "outputs": [
    {
     "data": {
      "text/markdown": [
       "### Unfaithful"
      ],
      "text/plain": [
       "<IPython.core.display.Markdown object>"
      ]
     },
     "metadata": {},
     "output_type": "display_data"
    },
    {
     "data": {
      "text/html": [
       "harry kane awaits his chance to impress in a crossbar challenge during open training at white hart lane on thursday morning."
      ],
      "text/plain": [
       "<IPython.core.display.HTML object>"
      ]
     },
     "metadata": {},
     "output_type": "display_data"
    },
    {
     "data": {
      "text/html": [
       "the turin giants maintained their grip on second place at the stadio olimpico."
      ],
      "text/plain": [
       "<IPython.core.display.HTML object>"
      ]
     },
     "metadata": {},
     "output_type": "display_data"
    },
    {
     "data": {
      "text/html": [
       "cristiano ronaldo, karim benzema and gareth bale scored for real madrid."
      ],
      "text/plain": [
       "<IPython.core.display.HTML object>"
      ]
     },
     "metadata": {},
     "output_type": "display_data"
    },
    {
     "data": {
      "text/markdown": [
       "### Ungrammatical"
      ],
      "text/plain": [
       "<IPython.core.display.Markdown object>"
      ]
     },
     "metadata": {},
     "output_type": "display_data"
    },
    {
     "data": {
      "text/html": [
       "families flee parts of western iraq amid continuing onslaught from isis fighters."
      ],
      "text/plain": [
       "<IPython.core.display.HTML object>"
      ]
     },
     "metadata": {},
     "output_type": "display_data"
    },
    {
     "data": {
      "text/html": [
       "wasps have seized four titles in the last eight of the new 2 - 1 win over leicester."
      ],
      "text/plain": [
       "<IPython.core.display.HTML object>"
      ]
     },
     "metadata": {},
     "output_type": "display_data"
    },
    {
     "data": {
      "text/html": [
       "having taken hormones for years, she had gender reassignment surgery."
      ],
      "text/plain": [
       "<IPython.core.display.HTML object>"
      ]
     },
     "metadata": {},
     "output_type": "display_data"
    },
    {
     "data": {
      "text/markdown": [
       "### Uncoverage"
      ],
      "text/plain": [
       "<IPython.core.display.Markdown object>"
      ]
     },
     "metadata": {},
     "output_type": "display_data"
    },
    {
     "data": {
      "text/html": [
       "sunderland beat newcastle derby at the stadium of light on sunday."
      ],
      "text/plain": [
       "<IPython.core.display.HTML object>"
      ]
     },
     "metadata": {},
     "output_type": "display_data"
    },
    {
     "data": {
      "text/html": [
       "tim sherwood is yet to play a pass under pressure from manchester united&apos;s daley blind."
      ],
      "text/plain": [
       "<IPython.core.display.HTML object>"
      ]
     },
     "metadata": {},
     "output_type": "display_data"
    },
    {
     "data": {
      "text/html": [
       "glenn murray scored in the second half to give crystal palace the lead."
      ],
      "text/plain": [
       "<IPython.core.display.HTML object>"
      ]
     },
     "metadata": {},
     "output_type": "display_data"
    }
   ],
   "source": [
    "# TODO: rework to be able to select out exact examples\n",
    "from IPython.display import HTML\n",
    "\n",
    "np.random.seed(42)\n",
    "\n",
    "def sample_un_exs(mask: np.ndarray, n: int = 3):\n",
    "    mask = (processed[sum_selec] * (mask_unfaith > 0)).values\n",
    "    uniq = np.unique(mask.flatten())[1:]  # remove empty string\n",
    "    \n",
    "    for summ in np.random.choice(uniq, size=n, replace=False):\n",
    "        display(HTML(summ))\n",
    "\n",
    "display(Markdown(\"### Unfaithful\"))\n",
    "sample_un_exs(mask_unfaith)\n",
    "\n",
    "display(Markdown(\"### Ungrammatical\"))\n",
    "sample_un_exs(mask_ungramm)\n",
    "\n",
    "display(Markdown(\"### Uncoverage\"))\n",
    "sample_un_exs(mask_uncover)"
   ]
  },
  {
   "cell_type": "markdown",
   "metadata": {},
   "source": [
    "---\n",
    "## Average System Summary Length"
   ]
  },
  {
   "cell_type": "code",
   "execution_count": 12,
   "metadata": {
    "scrolled": false
   },
   "outputs": [
    {
     "data": {
      "text/html": [
       "<div>\n",
       "<style scoped>\n",
       "    .dataframe tbody tr th:only-of-type {\n",
       "        vertical-align: middle;\n",
       "    }\n",
       "\n",
       "    .dataframe tbody tr th {\n",
       "        vertical-align: top;\n",
       "    }\n",
       "\n",
       "    .dataframe thead th {\n",
       "        text-align: right;\n",
       "    }\n",
       "</style>\n",
       "<table border=\"1\" class=\"dataframe\">\n",
       "  <thead>\n",
       "    <tr style=\"text-align: right;\">\n",
       "      <th></th>\n",
       "      <th>avg_len</th>\n",
       "    </tr>\n",
       "    <tr>\n",
       "      <th>sys</th>\n",
       "      <th></th>\n",
       "    </tr>\n",
       "  </thead>\n",
       "  <tbody>\n",
       "    <tr>\n",
       "      <th>bottom-up</th>\n",
       "      <td>74.9315</td>\n",
       "    </tr>\n",
       "    <tr>\n",
       "      <th>dca</th>\n",
       "      <td>81.5154</td>\n",
       "    </tr>\n",
       "    <tr>\n",
       "      <th>pg</th>\n",
       "      <td>110.595</td>\n",
       "    </tr>\n",
       "    <tr>\n",
       "      <th>novel</th>\n",
       "      <td>86.1404</td>\n",
       "    </tr>\n",
       "    <tr>\n",
       "      <th>abs-rl-rerank</th>\n",
       "      <td>73.8125</td>\n",
       "    </tr>\n",
       "    <tr>\n",
       "      <th>reference</th>\n",
       "      <td>76.14</td>\n",
       "    </tr>\n",
       "  </tbody>\n",
       "</table>\n",
       "</div>"
      ],
      "text/plain": [
       "               avg_len\n",
       "sys                   \n",
       "bottom-up      74.9315\n",
       "dca            81.5154\n",
       "pg             110.595\n",
       "novel          86.1404\n",
       "abs-rl-rerank  73.8125\n",
       "reference        76.14"
      ]
     },
     "execution_count": 12,
     "metadata": {},
     "output_type": "execute_result"
    }
   ],
   "source": [
    "sys_summ_len = pd.DataFrame(columns=[\"sys\", \"avg_len\"])\n",
    "sys_summ_len[\"sys\"] = systems\n",
    "sys_summ_len.set_index([\"sys\"], inplace=True)\n",
    "\n",
    "for sys in systems:\n",
    "    mask = (masks[sys] * (processed[sum_selec])).values\n",
    "    mask = np.unique(mask.flatten())[1:]\n",
    "    lens = sum([len(x) for x in mask])\n",
    "    sys_summ_len.loc[sys, \"avg_len\"] = lens / mask.shape[0]\n",
    "    \n",
    "sys_summ_len"
   ]
  },
  {
   "cell_type": "markdown",
   "metadata": {},
   "source": [
    "---\n",
    "# Fleiss' Kappa"
   ]
  },
  {
   "cell_type": "code",
   "execution_count": 15,
   "metadata": {
    "scrolled": false
   },
   "outputs": [],
   "source": [
    "from nltk.metrics.agreement import AnnotationTask\n",
    "\n",
    "def fleiss_kappa(col: list, name: str):\n",
    "    display(Markdown(f\"**{name}**\"))\n",
    "    annots = processed.reset_index()[[\"Answer.article_hash\", \"WorkerId\",] + col]\n",
    "    annots = pd.melt(annots, id_vars=[\"Answer.article_hash\", \"WorkerId\"],\n",
    "                     value_vars=col, value_name=\"label\", var_name=\"task\")\n",
    "\n",
    "    kappas = []\n",
    "    for article, group in annots.groupby(\"Answer.article_hash\"):\n",
    "        coder = list(group[\"WorkerId\"])\n",
    "        label = list(group[\"label\"])\n",
    "        item  = list(group[[\"Answer.article_hash\", \"task\"]].apply(lambda x: \"\".join(x), axis=1))\n",
    "\n",
    "        try:\n",
    "            fleiss = AnnotationTask([x for x in zip(coder, item, label)])\n",
    "            kappas.append(fleiss.multi_kappa())\n",
    "        except ZeroDivisionError:\n",
    "            print(article)\n",
    "            continue\n",
    "\n",
    "    kappas = np.array(kappas)\n",
    "    display(f\"max  : {kappas.max()}\")\n",
    "    display(f\"mean : {kappas.mean()}\")\n",
    "    display(f\"stdev: {kappas.std()}\")\n",
    "    display(f\"min  : {kappas.min()}\")\n",
    "    \n",
    "    display(sns.distplot(kappas))\n",
    "    plt.show()"
   ]
  },
  {
   "cell_type": "code",
   "execution_count": 16,
   "metadata": {},
   "outputs": [
    {
     "data": {
      "text/markdown": [
       "**Faithfulness**"
      ],
      "text/plain": [
       "<IPython.core.display.Markdown object>"
      ]
     },
     "metadata": {},
     "output_type": "display_data"
    },
    {
     "name": "stdout",
     "output_type": "stream",
     "text": [
      "99bfa29e7b1591fd3de14fbc3295800109623f9dc6abebd7f0cf3203cc61b044\n"
     ]
    },
    {
     "data": {
      "text/plain": [
       "'max  : 0.7272727272727274'"
      ]
     },
     "metadata": {},
     "output_type": "display_data"
    },
    {
     "data": {
      "text/plain": [
       "'mean : 0.10179360462124823'"
      ]
     },
     "metadata": {},
     "output_type": "display_data"
    },
    {
     "data": {
      "text/plain": [
       "'stdev: 0.19143578909321426'"
      ]
     },
     "metadata": {},
     "output_type": "display_data"
    },
    {
     "data": {
      "text/plain": [
       "'min  : -0.33333333333333337'"
      ]
     },
     "metadata": {},
     "output_type": "display_data"
    },
    {
     "data": {
      "text/plain": [
       "<matplotlib.axes._subplots.AxesSubplot at 0x1284f4b38>"
      ]
     },
     "metadata": {},
     "output_type": "display_data"
    },
    {
     "data": {
      "image/png": "[encoded data removed]",
      "text/plain": [
       "<Figure size 432x288 with 1 Axes>"
      ]
     },
     "metadata": {},
     "output_type": "display_data"
    },
    {
     "data": {
      "text/markdown": [
       "**Grammaticality**"
      ],
      "text/plain": [
       "<IPython.core.display.Markdown object>"
      ]
     },
     "metadata": {},
     "output_type": "display_data"
    },
    {
     "name": "stdout",
     "output_type": "stream",
     "text": [
      "39bc958bd11a0bb2abff646b858b577ae8a33cbff471f0f78b6dad63b5889bfa\n",
      "4ee1a47c46b42bc23a5727804c7275b94421408f0aeb6ca1d18fdcbd302b3e20\n",
      "5df775673ca8c2a5a3392233a1a6007a7d08bfcc7bacfc4a61fffd52b86556fd\n",
      "79e5c3f681b4dd272f3467d86399dae17a57973b465e9b33e8e48a7734898b1e\n",
      "bbacac2968afef9583d767225d1faf928d1f10ecac8dad1a090c77db730d2e94\n"
     ]
    },
    {
     "data": {
      "text/plain": [
       "'max  : 0.7272727272727274'"
      ]
     },
     "metadata": {},
     "output_type": "display_data"
    },
    {
     "data": {
      "text/plain": [
       "'mean : 0.0749945209268485'"
      ]
     },
     "metadata": {},
     "output_type": "display_data"
    },
    {
     "data": {
      "text/plain": [
       "'stdev: 0.19228988061495625'"
      ]
     },
     "metadata": {},
     "output_type": "display_data"
    },
    {
     "data": {
      "text/plain": [
       "'min  : -0.30434782608695654'"
      ]
     },
     "metadata": {},
     "output_type": "display_data"
    },
    {
     "data": {
      "text/plain": [
       "<matplotlib.axes._subplots.AxesSubplot at 0x128666a58>"
      ]
     },
     "metadata": {},
     "output_type": "display_data"
    },
    {
     "data": {
      "image/png": "[encoded data removed]",
      "text/plain": [
       "<Figure size 432x288 with 1 Axes>"
      ]
     },
     "metadata": {},
     "output_type": "display_data"
    },
    {
     "data": {
      "text/markdown": [
       "**Merging**"
      ],
      "text/plain": [
       "<IPython.core.display.Markdown object>"
      ]
     },
     "metadata": {},
     "output_type": "display_data"
    },
    {
     "data": {
      "text/plain": [
       "'max  : 0.2758620689655171'"
      ]
     },
     "metadata": {},
     "output_type": "display_data"
    },
    {
     "data": {
      "text/plain": [
       "'mean : 0.022722050974455968'"
      ]
     },
     "metadata": {},
     "output_type": "display_data"
    },
    {
     "data": {
      "text/plain": [
       "'stdev: 0.095333752318243'"
      ]
     },
     "metadata": {},
     "output_type": "display_data"
    },
    {
     "data": {
      "text/plain": [
       "'min  : -0.1851851851851852'"
      ]
     },
     "metadata": {},
     "output_type": "display_data"
    },
    {
     "data": {
      "text/plain": [
       "<matplotlib.axes._subplots.AxesSubplot at 0x128776470>"
      ]
     },
     "metadata": {},
     "output_type": "display_data"
    },
    {
     "data": {
      "image/png": "[encoded data removed]",
      "text/plain": [
       "<Figure size 432x288 with 1 Axes>"
      ]
     },
     "metadata": {},
     "output_type": "display_data"
    }
   ],
   "source": [
    "fleiss_kappa(fth_selec, \"Faithfulness\")\n",
    "fleiss_kappa(grm_selec, \"Grammaticality\")\n",
    "fleiss_kappa(mrg_selec, \"Merging\")"
   ]
  },
  {
   "cell_type": "code",
   "execution_count": null,
   "metadata": {},
   "outputs": [],
   "source": []
  }
 ],
 "metadata": {
  "kernelspec": {
   "display_name": "Python 3",
   "language": "python",
   "name": "python3"
  },
  "language_info": {
   "codemirror_mode": {
    "name": "ipython",
    "version": 3
   },
   "file_extension": ".py",
   "mimetype": "text/x-python",
   "name": "python",
   "nbconvert_exporter": "python",
   "pygments_lexer": "ipython3",
   "version": "3.6.7"
  }
 },
 "nbformat": 4,
 "nbformat_minor": 2
}
